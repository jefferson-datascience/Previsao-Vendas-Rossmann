{
 "cells": [
  {
   "cell_type": "markdown",
   "metadata": {},
   "source": [
    "## Problema de Negócio"
   ]
  },
  {
   "cell_type": "markdown",
   "metadata": {},
   "source": [
    "A Rede de Drogarias Rossmann opera mais de 3.000 drogarias em 7 países europeus. Atualmente, os gerentes das lojas Rossmann são responsáveis por prever suas vendas diárias com até seis semanas de antecedência. As vendas das lojas são influenciadas por muitos fatores, incluindo promoções, competição, feriados escolares e estaduais, sazonalidade e localidade. Com milhares de gerentes individuais prevendo as vendas com base em suas circunstâncias únicas, a precisão dos resultados pode ser bastante variada.\n",
    "\n",
    "Logo, nos foi solicitado a construção de um modelo preditivo de modo que tenhamos a previsão das vendas dos próximos 6 dias das lojas, de modo que, essas previsões sejam padronizadas e, que os gerentes deleguem essa atividade para focarem, de fato, em gerenciar o orçamento e as ações baseadas nesses previsões."
   ]
  },
  {
   "cell_type": "markdown",
   "metadata": {},
   "source": [
    "## 0.0 Pacotes e Bibliotecas"
   ]
  },
  {
   "cell_type": "code",
   "execution_count": 1,
   "metadata": {},
   "outputs": [],
   "source": [
    "# Manipulação de Dados\n",
    "import pandas as pd\n",
    "import numpy  as np\n",
    "\n",
    "# Visualização de Dados\n",
    "from matplotlib import pyplot as plt\n",
    "import seaborn as sbn\n",
    "import xgboost as xgb\n",
    "import lightgbm\n",
    "\n",
    "from sklearn import pipeline, preprocessing, model_selection, compose, metrics, linear_model, tree, ensemble, svm\n",
    "\n",
    "# Configurações\n",
    "pd.set_option('display.float_format', lambda x: '%.2f' % x)"
   ]
  },
  {
   "cell_type": "code",
   "execution_count": 2,
   "metadata": {},
   "outputs": [],
   "source": [
    "# Função para validação dos dados\n",
    "def validacao_dados(dataset, nome_dataset):\n",
    "\n",
    "    print(f'Validação dos Dados: {nome_dataset}')\n",
    "    print(f'Quantidade de Linhas: {dataset.shape[0]}, Quantidade de Colunas: {dataset.shape[1]}.')\n",
    "\n",
    "def metricas_validacao(y_real, y_predito):\n",
    "\n",
    "    # Erro médio absoluto\n",
    "    mae = metrics.mean_absolute_error(y_real, y_predito)\n",
    "\n",
    "    # MAPE com tratamento para y_real = 0\n",
    "    y_real = np.ravel(y_real)\n",
    "    y_predito = np.ravel(y_predito)\n",
    "    mask = y_real != 0\n",
    "    if np.any(mask):\n",
    "        mape = np.mean(np.abs((y_real[mask] - y_predito[mask]) / y_real[mask])) * 100\n",
    "    else:\n",
    "        mape = np.nan  # Ou defina um valor de fallback \n",
    "\n",
    "    # Erro médio quadrático\n",
    "    rmse = metrics.root_mean_squared_error(y_real, y_predito)\n",
    "\n",
    "    print(f'MAE: {mae:.2f}.')\n",
    "    print(f'MAPE: {mape:.2f}')\n",
    "    print(f'RMSE: {rmse:.2f}')\n",
    "\n",
    "    # Retorno dos Valores\n",
    "    return mae, mape, rmse"
   ]
  },
  {
   "cell_type": "markdown",
   "metadata": {},
   "source": [
    "### 0.1 Dicionário de Dados"
   ]
  },
  {
   "cell_type": "markdown",
   "metadata": {},
   "source": [
    "**Store**: Um identificador único para cada loja.\n",
    "\n",
    "**Sales**: O faturamento de qualquer dia específico.\n",
    "\n",
    "**Customers**: O número de clientes em um dado dia.\n",
    "\n",
    "**Open**: Um indicador se a loja estava aberta: 0 = fechada, 1 = aberta.\n",
    "\n",
    "**StateHoliday**: Indica um feriado estadual. Normalmente, todas as lojas, com poucas exceções, estão fechadas em feriados estaduais. Note que todas as escolas estão fechadas em feriados públicos e fins de semana. a = feriado público, b = feriado de Páscoa, c = Natal, 0 = Nenhum.\n",
    "\n",
    "**SchoolHoliday**: Indica se a (Loja, Data) foi afetada pelo fechamento das escolas públicas.\n",
    "\n",
    "**StoreType**: Diferencia entre 4 modelos de lojas diferentes: a, b, c, d.\n",
    "\n",
    "**Assortment**: Descreve um nível de sortimento: a = básico, b = extra, c = estendido.\n",
    "\n",
    "**CompetitionDistance**: Distância em metros até a loja concorrente mais próxima.\n",
    "\n",
    "**CompetitionOpenSinceMonth/Year**: Dá o ano aproximado e o mês em que a loja concorrente mais próxima foi aberta.\n",
    "\n",
    "**Promo**: Indica se uma loja está realizando uma promoção nesse dia.\n",
    "\n",
    "**Promo2**: Promo2 é uma promoção contínua e consecutiva para algumas lojas: 0 = a loja não está participando, 1 = a loja está participando.\n",
    "\n",
    "**Promo2SinceYear/Month:** Descreve o ano e a semana do calendário em que a loja começou a participar da Promo2.\n",
    "\n",
    "**PromoInterval**: Descreve os intervalos consecutivos em que a Promo2 é iniciada, nomeando os meses em que a promoção é reiniciada. Por exemplo, \"Fev, Mai, Ago, Nov\" significa que cada rodada começa em fevereiro, maio, agosto e novembro de qualquer ano para aquela loja."
   ]
  },
  {
   "cell_type": "markdown",
   "metadata": {},
   "source": [
    "## 1.0 Carregamento dos Dados"
   ]
  },
  {
   "cell_type": "code",
   "execution_count": 3,
   "metadata": {},
   "outputs": [
    {
     "name": "stdout",
     "output_type": "stream",
     "text": [
      "Validação dos Dados\n",
      "Fato -> Quantidade de Linhas: 1017209, Quantidade de Colunas: 9.\n",
      "Dimensão -> Quantidade de Linhas: 1115, Quantidade de Colunas: 10.\n"
     ]
    }
   ],
   "source": [
    "df1_fato = pd.read_csv('../BaseDados/DadosTreino.csv', delimiter=',', low_memory=False)\n",
    "df1_dimensao = pd.read_csv('../BaseDados/DadosLoja.csv', delimiter=',', low_memory=False)\n",
    "\n",
    "print('Validação dos Dados')\n",
    "print(f'Fato -> Quantidade de Linhas: {df1_fato.shape[0]}, Quantidade de Colunas: {df1_fato.shape[1]}.')\n",
    "print(f'Dimensão -> Quantidade de Linhas: {df1_dimensao.shape[0]}, Quantidade de Colunas: {df1_dimensao.shape[1]}.')"
   ]
  },
  {
   "cell_type": "code",
   "execution_count": 4,
   "metadata": {},
   "outputs": [
    {
     "name": "stdout",
     "output_type": "stream",
     "text": [
      "Amostra dos Dados Fato\n"
     ]
    },
    {
     "data": {
      "text/html": [
       "<div>\n",
       "<style scoped>\n",
       "    .dataframe tbody tr th:only-of-type {\n",
       "        vertical-align: middle;\n",
       "    }\n",
       "\n",
       "    .dataframe tbody tr th {\n",
       "        vertical-align: top;\n",
       "    }\n",
       "\n",
       "    .dataframe thead th {\n",
       "        text-align: right;\n",
       "    }\n",
       "</style>\n",
       "<table border=\"1\" class=\"dataframe\">\n",
       "  <thead>\n",
       "    <tr style=\"text-align: right;\">\n",
       "      <th></th>\n",
       "      <th>Store</th>\n",
       "      <th>DayOfWeek</th>\n",
       "      <th>Date</th>\n",
       "      <th>Sales</th>\n",
       "      <th>Customers</th>\n",
       "      <th>Open</th>\n",
       "      <th>Promo</th>\n",
       "      <th>StateHoliday</th>\n",
       "      <th>SchoolHoliday</th>\n",
       "    </tr>\n",
       "  </thead>\n",
       "  <tbody>\n",
       "    <tr>\n",
       "      <th>0</th>\n",
       "      <td>1</td>\n",
       "      <td>5</td>\n",
       "      <td>2015-07-31</td>\n",
       "      <td>5263</td>\n",
       "      <td>555</td>\n",
       "      <td>1</td>\n",
       "      <td>1</td>\n",
       "      <td>0</td>\n",
       "      <td>1</td>\n",
       "    </tr>\n",
       "    <tr>\n",
       "      <th>1</th>\n",
       "      <td>2</td>\n",
       "      <td>5</td>\n",
       "      <td>2015-07-31</td>\n",
       "      <td>6064</td>\n",
       "      <td>625</td>\n",
       "      <td>1</td>\n",
       "      <td>1</td>\n",
       "      <td>0</td>\n",
       "      <td>1</td>\n",
       "    </tr>\n",
       "  </tbody>\n",
       "</table>\n",
       "</div>"
      ],
      "text/plain": [
       "   Store  DayOfWeek        Date  Sales  Customers  Open  Promo StateHoliday  \\\n",
       "0      1          5  2015-07-31   5263        555     1      1            0   \n",
       "1      2          5  2015-07-31   6064        625     1      1            0   \n",
       "\n",
       "   SchoolHoliday  \n",
       "0              1  \n",
       "1              1  "
      ]
     },
     "execution_count": 4,
     "metadata": {},
     "output_type": "execute_result"
    }
   ],
   "source": [
    "# Amostra dos Dados Dimensão\n",
    "print('Amostra dos Dados Fato')\n",
    "df1_fato.head(2)"
   ]
  },
  {
   "cell_type": "code",
   "execution_count": 5,
   "metadata": {},
   "outputs": [
    {
     "name": "stdout",
     "output_type": "stream",
     "text": [
      "Amostra dos Dados Dimensão\n"
     ]
    },
    {
     "data": {
      "text/html": [
       "<div>\n",
       "<style scoped>\n",
       "    .dataframe tbody tr th:only-of-type {\n",
       "        vertical-align: middle;\n",
       "    }\n",
       "\n",
       "    .dataframe tbody tr th {\n",
       "        vertical-align: top;\n",
       "    }\n",
       "\n",
       "    .dataframe thead th {\n",
       "        text-align: right;\n",
       "    }\n",
       "</style>\n",
       "<table border=\"1\" class=\"dataframe\">\n",
       "  <thead>\n",
       "    <tr style=\"text-align: right;\">\n",
       "      <th></th>\n",
       "      <th>Store</th>\n",
       "      <th>StoreType</th>\n",
       "      <th>Assortment</th>\n",
       "      <th>CompetitionDistance</th>\n",
       "      <th>CompetitionOpenSinceMonth</th>\n",
       "      <th>CompetitionOpenSinceYear</th>\n",
       "      <th>Promo2</th>\n",
       "      <th>Promo2SinceWeek</th>\n",
       "      <th>Promo2SinceYear</th>\n",
       "      <th>PromoInterval</th>\n",
       "    </tr>\n",
       "  </thead>\n",
       "  <tbody>\n",
       "    <tr>\n",
       "      <th>0</th>\n",
       "      <td>1</td>\n",
       "      <td>c</td>\n",
       "      <td>a</td>\n",
       "      <td>1270.00</td>\n",
       "      <td>9.00</td>\n",
       "      <td>2008.00</td>\n",
       "      <td>0</td>\n",
       "      <td>NaN</td>\n",
       "      <td>NaN</td>\n",
       "      <td>NaN</td>\n",
       "    </tr>\n",
       "    <tr>\n",
       "      <th>1</th>\n",
       "      <td>2</td>\n",
       "      <td>a</td>\n",
       "      <td>a</td>\n",
       "      <td>570.00</td>\n",
       "      <td>11.00</td>\n",
       "      <td>2007.00</td>\n",
       "      <td>1</td>\n",
       "      <td>13.00</td>\n",
       "      <td>2010.00</td>\n",
       "      <td>Jan,Apr,Jul,Oct</td>\n",
       "    </tr>\n",
       "  </tbody>\n",
       "</table>\n",
       "</div>"
      ],
      "text/plain": [
       "   Store StoreType Assortment  CompetitionDistance  CompetitionOpenSinceMonth  \\\n",
       "0      1         c          a              1270.00                       9.00   \n",
       "1      2         a          a               570.00                      11.00   \n",
       "\n",
       "   CompetitionOpenSinceYear  Promo2  Promo2SinceWeek  Promo2SinceYear  \\\n",
       "0                   2008.00       0              NaN              NaN   \n",
       "1                   2007.00       1            13.00          2010.00   \n",
       "\n",
       "     PromoInterval  \n",
       "0              NaN  \n",
       "1  Jan,Apr,Jul,Oct  "
      ]
     },
     "execution_count": 5,
     "metadata": {},
     "output_type": "execute_result"
    }
   ],
   "source": [
    "# Amostra dos Dados Dimensão\n",
    "print('Amostra dos Dados Dimensão')\n",
    "df1_dimensao.head(2)"
   ]
  },
  {
   "cell_type": "markdown",
   "metadata": {},
   "source": [
    "Para que tenhamos um conjunto de dados completo, vamos fazer o junção entre a dimensão e a fato para trazer, para a fato, as informações da loja."
   ]
  },
  {
   "cell_type": "code",
   "execution_count": 6,
   "metadata": {},
   "outputs": [
    {
     "name": "stdout",
     "output_type": "stream",
     "text": [
      "Validação dos Dados: df1\n",
      "Quantidade de Linhas: 1017209, Quantidade de Colunas: 18.\n"
     ]
    }
   ],
   "source": [
    "# Realização de um left join\n",
    "df1 = df1_fato.merge(df1_dimensao, how='left', on='Store')\n",
    "\n",
    "# Validação dos Dados\n",
    "validacao_dados(df1, 'df1')"
   ]
  },
  {
   "cell_type": "markdown",
   "metadata": {},
   "source": [
    "### 1.1 Seleção dos Dados"
   ]
  },
  {
   "cell_type": "markdown",
   "metadata": {},
   "source": [
    "Como o nosso objetivo é realizar a previsão das próximas 6 semanas de vendas das lojas, podemos, após um entendimento das variáveis, verificar quais delas fazem sentido. \n",
    "\n",
    "1. Nossa análise só faz sentido se as lojas estiverem abertas, sendo assim, vamos filtrar os dados e obter coma condição open = 1.\n",
    "2. Ao analisar, temos que duas variávies não fazem sentido para nós. São elas: 'Promo2SinceWeek', 'Promo2SinceYear', 'PromoInterval'.\n",
    "\n",
    "Portanto, vmaos remover essas variáveis do nosso dataset e aplicar os filtros, de modo que, iniciemos nosso trabalho."
   ]
  },
  {
   "cell_type": "code",
   "execution_count": 7,
   "metadata": {},
   "outputs": [
    {
     "name": "stdout",
     "output_type": "stream",
     "text": [
      "Validação dos Dados: df1\n",
      "Quantidade de Linhas: 844392, Quantidade de Colunas: 15.\n"
     ]
    }
   ],
   "source": [
    "df1 = df1[df1['Open'] == 1].drop(columns=['Promo2SinceWeek', 'Promo2SinceYear', 'PromoInterval'], axis=1).copy()\n",
    "\n",
    "# Conferindo os dados\n",
    "validacao_dados(df1, 'df1')"
   ]
  },
  {
   "cell_type": "markdown",
   "metadata": {},
   "source": [
    "Com os dados consolidados, vamos iniciar."
   ]
  },
  {
   "cell_type": "markdown",
   "metadata": {},
   "source": [
    "## 2.0 Análise Exploratória dos Dados"
   ]
  },
  {
   "cell_type": "code",
   "execution_count": 8,
   "metadata": {},
   "outputs": [
    {
     "name": "stdout",
     "output_type": "stream",
     "text": [
      "Validação dos Dados: df2\n",
      "Quantidade de Linhas: 844392, Quantidade de Colunas: 15.\n"
     ]
    }
   ],
   "source": [
    "# Cópia dos Dados\n",
    "df2 = df1.copy()\n",
    "\n",
    "# Validação dos Dados\n",
    "validacao_dados(df2, 'df2')"
   ]
  },
  {
   "cell_type": "markdown",
   "metadata": {},
   "source": [
    "### 2.1 Variável Alvo"
   ]
  },
  {
   "cell_type": "markdown",
   "metadata": {},
   "source": [
    "Nossa variável alvo será as vendas das próximas 6 semanas de uma loja. Sendo assim, vamos precisar construir essa variável. Entretanto, para que faça sentido essa construção e, que os esforço que seram aplicados não sejam vazios, vamos realizar uma análise geral dos dados, inicialmente, para saber se, os dados em si, fazem sentido. Como, a variável 'Sales' é a que vai compor nossa variável alvo, vamos analisar o dataset tendo ela como alvo para saber se os dados fazem sentido."
   ]
  },
  {
   "cell_type": "code",
   "execution_count": 9,
   "metadata": {},
   "outputs": [
    {
     "data": {
      "image/png": "[encoded data removed]",
      "text/plain": [
       "<Figure size 640x480 with 1 Axes>"
      ]
     },
     "metadata": {},
     "output_type": "display_data"
    }
   ],
   "source": [
    "# Distribuição da variável Sales\n",
    "df2['Sales'].hist()\n",
    "plt.title('Distribuição Variável Sales');\n",
    "plt.show();"
   ]
  },
  {
   "cell_type": "markdown",
   "metadata": {},
   "source": [
    "Podemos ver uma distribuição a esquerda, o que nos diz que os temos muitas lojas que vendem, diariamente, até US$ 10.0000. Logo, não há uma distribuição normal. Inicialmente, não aplicaremos nenhuma função logarítimica. Seguiremos com os dados dessa forma, e caso seja necessário, tratamos os dados."
   ]
  },
  {
   "cell_type": "markdown",
   "metadata": {},
   "source": [
    "### 2.2 Resumo Estatístico"
   ]
  },
  {
   "cell_type": "markdown",
   "metadata": {},
   "source": [
    "#### Variáveis Numéricas"
   ]
  },
  {
   "cell_type": "code",
   "execution_count": 10,
   "metadata": {},
   "outputs": [
    {
     "data": {
      "text/html": [
       "<div>\n",
       "<style scoped>\n",
       "    .dataframe tbody tr th:only-of-type {\n",
       "        vertical-align: middle;\n",
       "    }\n",
       "\n",
       "    .dataframe tbody tr th {\n",
       "        vertical-align: top;\n",
       "    }\n",
       "\n",
       "    .dataframe thead th {\n",
       "        text-align: right;\n",
       "    }\n",
       "</style>\n",
       "<table border=\"1\" class=\"dataframe\">\n",
       "  <thead>\n",
       "    <tr style=\"text-align: right;\">\n",
       "      <th></th>\n",
       "      <th>Store</th>\n",
       "      <th>DayOfWeek</th>\n",
       "      <th>Sales</th>\n",
       "      <th>Customers</th>\n",
       "      <th>Open</th>\n",
       "      <th>Promo</th>\n",
       "      <th>SchoolHoliday</th>\n",
       "      <th>CompetitionDistance</th>\n",
       "      <th>CompetitionOpenSinceMonth</th>\n",
       "      <th>CompetitionOpenSinceYear</th>\n",
       "      <th>Promo2</th>\n",
       "    </tr>\n",
       "  </thead>\n",
       "  <tbody>\n",
       "    <tr>\n",
       "      <th>count</th>\n",
       "      <td>844392.00</td>\n",
       "      <td>844392.00</td>\n",
       "      <td>844392.00</td>\n",
       "      <td>844392.00</td>\n",
       "      <td>844392.00</td>\n",
       "      <td>844392.00</td>\n",
       "      <td>844392.00</td>\n",
       "      <td>842206.00</td>\n",
       "      <td>575773.00</td>\n",
       "      <td>575773.00</td>\n",
       "      <td>844392.00</td>\n",
       "    </tr>\n",
       "    <tr>\n",
       "      <th>mean</th>\n",
       "      <td>558.42</td>\n",
       "      <td>3.52</td>\n",
       "      <td>6955.51</td>\n",
       "      <td>762.73</td>\n",
       "      <td>1.00</td>\n",
       "      <td>0.45</td>\n",
       "      <td>0.19</td>\n",
       "      <td>5457.98</td>\n",
       "      <td>7.22</td>\n",
       "      <td>2008.70</td>\n",
       "      <td>0.50</td>\n",
       "    </tr>\n",
       "    <tr>\n",
       "      <th>std</th>\n",
       "      <td>321.73</td>\n",
       "      <td>1.72</td>\n",
       "      <td>3104.21</td>\n",
       "      <td>401.23</td>\n",
       "      <td>0.00</td>\n",
       "      <td>0.50</td>\n",
       "      <td>0.40</td>\n",
       "      <td>7809.44</td>\n",
       "      <td>3.21</td>\n",
       "      <td>5.98</td>\n",
       "      <td>0.50</td>\n",
       "    </tr>\n",
       "    <tr>\n",
       "      <th>min</th>\n",
       "      <td>1.00</td>\n",
       "      <td>1.00</td>\n",
       "      <td>0.00</td>\n",
       "      <td>0.00</td>\n",
       "      <td>1.00</td>\n",
       "      <td>0.00</td>\n",
       "      <td>0.00</td>\n",
       "      <td>20.00</td>\n",
       "      <td>1.00</td>\n",
       "      <td>1900.00</td>\n",
       "      <td>0.00</td>\n",
       "    </tr>\n",
       "    <tr>\n",
       "      <th>25%</th>\n",
       "      <td>280.00</td>\n",
       "      <td>2.00</td>\n",
       "      <td>4859.00</td>\n",
       "      <td>519.00</td>\n",
       "      <td>1.00</td>\n",
       "      <td>0.00</td>\n",
       "      <td>0.00</td>\n",
       "      <td>710.00</td>\n",
       "      <td>4.00</td>\n",
       "      <td>2006.00</td>\n",
       "      <td>0.00</td>\n",
       "    </tr>\n",
       "    <tr>\n",
       "      <th>50%</th>\n",
       "      <td>558.00</td>\n",
       "      <td>3.00</td>\n",
       "      <td>6369.00</td>\n",
       "      <td>676.00</td>\n",
       "      <td>1.00</td>\n",
       "      <td>0.00</td>\n",
       "      <td>0.00</td>\n",
       "      <td>2320.00</td>\n",
       "      <td>8.00</td>\n",
       "      <td>2010.00</td>\n",
       "      <td>0.00</td>\n",
       "    </tr>\n",
       "    <tr>\n",
       "      <th>75%</th>\n",
       "      <td>837.00</td>\n",
       "      <td>5.00</td>\n",
       "      <td>8360.00</td>\n",
       "      <td>893.00</td>\n",
       "      <td>1.00</td>\n",
       "      <td>1.00</td>\n",
       "      <td>0.00</td>\n",
       "      <td>6890.00</td>\n",
       "      <td>10.00</td>\n",
       "      <td>2013.00</td>\n",
       "      <td>1.00</td>\n",
       "    </tr>\n",
       "    <tr>\n",
       "      <th>max</th>\n",
       "      <td>1115.00</td>\n",
       "      <td>7.00</td>\n",
       "      <td>41551.00</td>\n",
       "      <td>7388.00</td>\n",
       "      <td>1.00</td>\n",
       "      <td>1.00</td>\n",
       "      <td>1.00</td>\n",
       "      <td>75860.00</td>\n",
       "      <td>12.00</td>\n",
       "      <td>2015.00</td>\n",
       "      <td>1.00</td>\n",
       "    </tr>\n",
       "  </tbody>\n",
       "</table>\n",
       "</div>"
      ],
      "text/plain": [
       "          Store  DayOfWeek     Sales  Customers      Open     Promo  \\\n",
       "count 844392.00  844392.00 844392.00  844392.00 844392.00 844392.00   \n",
       "mean     558.42       3.52   6955.51     762.73      1.00      0.45   \n",
       "std      321.73       1.72   3104.21     401.23      0.00      0.50   \n",
       "min        1.00       1.00      0.00       0.00      1.00      0.00   \n",
       "25%      280.00       2.00   4859.00     519.00      1.00      0.00   \n",
       "50%      558.00       3.00   6369.00     676.00      1.00      0.00   \n",
       "75%      837.00       5.00   8360.00     893.00      1.00      1.00   \n",
       "max     1115.00       7.00  41551.00    7388.00      1.00      1.00   \n",
       "\n",
       "       SchoolHoliday  CompetitionDistance  CompetitionOpenSinceMonth  \\\n",
       "count      844392.00            842206.00                  575773.00   \n",
       "mean            0.19              5457.98                       7.22   \n",
       "std             0.40              7809.44                       3.21   \n",
       "min             0.00                20.00                       1.00   \n",
       "25%             0.00               710.00                       4.00   \n",
       "50%             0.00              2320.00                       8.00   \n",
       "75%             0.00              6890.00                      10.00   \n",
       "max             1.00             75860.00                      12.00   \n",
       "\n",
       "       CompetitionOpenSinceYear    Promo2  \n",
       "count                 575773.00 844392.00  \n",
       "mean                    2008.70      0.50  \n",
       "std                        5.98      0.50  \n",
       "min                     1900.00      0.00  \n",
       "25%                     2006.00      0.00  \n",
       "50%                     2010.00      0.00  \n",
       "75%                     2013.00      1.00  \n",
       "max                     2015.00      1.00  "
      ]
     },
     "execution_count": 10,
     "metadata": {},
     "output_type": "execute_result"
    }
   ],
   "source": [
    "# Obtenção das variáveis numéricas\n",
    "df2_numerica = df2.select_dtypes(include=['int64', 'float64'])\n",
    "\n",
    "# Resumo Estatístico\n",
    "df2_numerica.describe()"
   ]
  },
  {
   "cell_type": "markdown",
   "metadata": {},
   "source": [
    "**Relatório**"
   ]
  },
  {
   "cell_type": "markdown",
   "metadata": {},
   "source": [
    "Podemos observar uma presença de dados nulos nas variáveis:\n",
    "- Competition Distance\n",
    "- Competition Open Since Month\n",
    "- Competition Open Since Year\n",
    "- Promo2\n",
    "\n",
    "Além disso, podemos notar um presença de outliers nas variáveis \n",
    "- Sales\n",
    "- Customers\n",
    "- Competition Distance"
   ]
  },
  {
   "cell_type": "markdown",
   "metadata": {},
   "source": [
    "##### Variáveis Categóricas"
   ]
  },
  {
   "cell_type": "code",
   "execution_count": 11,
   "metadata": {},
   "outputs": [
    {
     "data": {
      "text/html": [
       "<div>\n",
       "<style scoped>\n",
       "    .dataframe tbody tr th:only-of-type {\n",
       "        vertical-align: middle;\n",
       "    }\n",
       "\n",
       "    .dataframe tbody tr th {\n",
       "        vertical-align: top;\n",
       "    }\n",
       "\n",
       "    .dataframe thead th {\n",
       "        text-align: right;\n",
       "    }\n",
       "</style>\n",
       "<table border=\"1\" class=\"dataframe\">\n",
       "  <thead>\n",
       "    <tr style=\"text-align: right;\">\n",
       "      <th></th>\n",
       "      <th>Date</th>\n",
       "      <th>StateHoliday</th>\n",
       "      <th>StoreType</th>\n",
       "      <th>Assortment</th>\n",
       "    </tr>\n",
       "  </thead>\n",
       "  <tbody>\n",
       "    <tr>\n",
       "      <th>count</th>\n",
       "      <td>844392</td>\n",
       "      <td>844392</td>\n",
       "      <td>844392</td>\n",
       "      <td>844392</td>\n",
       "    </tr>\n",
       "    <tr>\n",
       "      <th>unique</th>\n",
       "      <td>942</td>\n",
       "      <td>4</td>\n",
       "      <td>4</td>\n",
       "      <td>3</td>\n",
       "    </tr>\n",
       "    <tr>\n",
       "      <th>top</th>\n",
       "      <td>2015-06-30</td>\n",
       "      <td>0</td>\n",
       "      <td>a</td>\n",
       "      <td>a</td>\n",
       "    </tr>\n",
       "    <tr>\n",
       "      <th>freq</th>\n",
       "      <td>1115</td>\n",
       "      <td>843482</td>\n",
       "      <td>457077</td>\n",
       "      <td>444909</td>\n",
       "    </tr>\n",
       "  </tbody>\n",
       "</table>\n",
       "</div>"
      ],
      "text/plain": [
       "              Date StateHoliday StoreType Assortment\n",
       "count       844392       844392    844392     844392\n",
       "unique         942            4         4          3\n",
       "top     2015-06-30            0         a          a\n",
       "freq          1115       843482    457077     444909"
      ]
     },
     "execution_count": 11,
     "metadata": {},
     "output_type": "execute_result"
    }
   ],
   "source": [
    "# Obtenção das variáveis categóricas\n",
    "df2_categorica = df2.select_dtypes(exclude=['int64', 'float64'])\n",
    "\n",
    "# Resumo Estatístico\n",
    "df2_categorica.describe()"
   ]
  },
  {
   "cell_type": "markdown",
   "metadata": {},
   "source": [
    "**Relatório**\n",
    "\n",
    "Podemos ver que teremos bastante trabalho para limpar e tratar esses dados. Além disso, não podemos esquecer do nosso objetivo que é prever a vendas das lojas da rede rossmann nas próximas 6 semanas. Logo, para isso, vamos ter que, também construir nossa variável alvo."
   ]
  },
  {
   "cell_type": "markdown",
   "metadata": {},
   "source": [
    "Para que todo o nosso trabalho valha a pena, vamos realizar uma análise geral dos dados em relação a variável alvo 'sales'. Observe que essa variável é o insumo para que possamos construir nossa variável alvo, sendo assim, se os dados fizerem sentido de acordo com essa variável, então nossa construção de variável alvo estará bem embasada."
   ]
  },
  {
   "cell_type": "markdown",
   "metadata": {},
   "source": [
    "### 2.2 Análise Geral dos Dados"
   ]
  },
  {
   "cell_type": "markdown",
   "metadata": {},
   "source": [
    "**Variáveis Numéricas**"
   ]
  },
  {
   "cell_type": "markdown",
   "metadata": {},
   "source": [
    "Para que possamos ver se os dados fazem sentido, vamos obter as variáveis numéricas, no caso, são DayOfweek, Sales, Customers, CompetitionDistance, CompetitionOpenSinceMonth, CompetitionOpenSinceYear"
   ]
  },
  {
   "cell_type": "code",
   "execution_count": 12,
   "metadata": {},
   "outputs": [],
   "source": [
    "# Definindo função para estudo de relaçaõ\n",
    "def analise_pares(dados, variavel_dependente, variaveis_independentes, n):\n",
    "\n",
    "    # Grupo de linhas com n gráficos por linha\n",
    "    grupo_variaveis_independendentes = [variaveis_independentes[i:i+n] for i in range(0, len(variaveis_independentes), n)]\n",
    "\n",
    "    # Loop pelos grupos de linhas para criar cada pair plot\n",
    "    for grupo_variaveis in grupo_variaveis_independendentes:\n",
    "        plot = sbn.pairplot(x_vars=grupo_variaveis, \n",
    "                            y_vars=variavel_dependente, \n",
    "                            data=dados, \n",
    "                            kind = \"reg\", \n",
    "                            height=5)"
   ]
  },
  {
   "cell_type": "code",
   "execution_count": 13,
   "metadata": {},
   "outputs": [
    {
     "data": {
      "image/png": "[encoded data removed]",
      "text/plain": [
       "<Figure size 1500x500 with 3 Axes>"
      ]
     },
     "metadata": {},
     "output_type": "display_data"
    },
    {
     "data": {
      "image/png": "[encoded data removed]",
      "text/plain": [
       "<Figure size 1000x500 with 2 Axes>"
      ]
     },
     "metadata": {},
     "output_type": "display_data"
    }
   ],
   "source": [
    "# Selecionando as variáveis numéricas\n",
    "variaveis_independentes = ['DayOfWeek', 'Customers', 'CompetitionDistance', 'CompetitionOpenSinceMonth', 'CompetitionOpenSinceYear']\n",
    "variavel_dependente = 'Sales'\n",
    "\n",
    "# Realizando a Análise de pares\n",
    "analise_pares(df2.sample(n=100000), variavel_dependente, variaveis_independentes, 3)"
   ]
  },
  {
   "cell_type": "markdown",
   "metadata": {},
   "source": [
    "**Variáveis Categóricas**"
   ]
  },
  {
   "cell_type": "code",
   "execution_count": 14,
   "metadata": {},
   "outputs": [
    {
     "data": {
      "image/png": "[encoded data removed]",
      "text/plain": [
       "<Figure size 2000x1000 with 6 Axes>"
      ]
     },
     "metadata": {},
     "output_type": "display_data"
    }
   ],
   "source": [
    "# Variável Promo\n",
    "fig, axs = plt.subplots(2, 3, figsize=(20,10))\n",
    "sbn.barplot(data=df2.sample(n=100000), x='Promo', y='Sales', ax=axs[0,0]);\n",
    "sbn.barplot(data=df2.sample(n=100000), x='StateHoliday', y='Sales', ax=axs[0,1]);\n",
    "sbn.barplot(data=df2.sample(n=100000), x='SchoolHoliday', y='Sales', ax=axs[0,2]);\n",
    "sbn.barplot(data=df2.sample(n=100000), x='Assortment', y='Sales', ax=axs[1,0]);\n",
    "sbn.barplot(data=df2.sample(n=100000), x='Promo2', y='Sales', ax=axs[1,1]);"
   ]
  },
  {
   "cell_type": "markdown",
   "metadata": {},
   "source": [
    "**Relatório Final**"
   ]
  },
  {
   "cell_type": "markdown",
   "metadata": {},
   "source": [
    "*DayOfWeek*: Ao analisar essa variável, podemos ver que a regressão apresenta uma tendência de queda no decorrer da semana. Naturalmente, se espera esse comportamento, pois aos finais de semanas se tem menos movimentos na cidade, inclusive em drogarias. Logo, o faturamento é menor. (Comportamento Esperado)\n",
    "\n",
    "*Customers*: Claramente, quanto mais clientes em uma loja, maior é o faturamento dessa loja, pois existem mais pessoas comprando. (Comportamento Esperado)\n",
    "\n",
    "*CompetitionDistance*: Podemos observar uma queda bem sucinta no faturamento com o aumento da distância. Uma possível explicação é que a falta de competitividade implica em menos ofertas e promoções. E, como sabemos, promoções impactam positivamente no faturamento. (Comportamento Esperado)\n",
    "\n",
    "*CompetitionSinceMonth/Year: Ao analisar essas variáveis, podemos observar um comportamento anômalo de quando a competição começou. Podemos que existem lojas que a loja concorrente abriu em 1900, entretanto a Rossmann foi fundada em 1972. Logo, temos mais um tratamento a ser realizado. Se observamos os dados, existe uma leve subida da regressão. Isso indica que quanto mais recente é uma loja recente, maior é o faturamento. Veja que isso faz sentido, pois com lojas mais recentes abrindo, existem ofertas mais agressivas, logo, a Rossmann precisa responder a altura para que não ocorra tanta perca, sendo assim, fazendo ofertas que impactam no aumento do faturamento.\n",
    "\n",
    "*Promo*: Loja que estão em promoção, possuem faturamento maior. (Comportamento Esperado)\n",
    "\n",
    "*StateHoliday*: Aqui, temos um comportamento interessante. Vemos que o faturamento é maior na páscoa, natal e feriados públicos. Quando entendemos o modelo de negócio da rossmann, vemos que ela é considerada drogaria, mas ela também tem foco no varejo. Sendo assim, uma explicação para o aumento das vendas em feriados seja pelo fato da venda de alimentícios, comésticos e higienes como um todos, somado de ofertas agressivas.\n",
    "\n",
    "*School Holidays*: Pelo mesmo motivo, podemos observar que em feriados escolares, as famílias tem motivos para realizar almoços, logo, gastando mais nas redes.\n",
    "\n",
    "*Assortment*: Sabemos que quanto mais variedades escolhas, mais opções de compras podemos fazer. Quando temos poucas opções (a), isso faz com que não encontremos o que queremos, logo, deixamos de comprar, por outro lado, opções demais (c), não faz com que levemos mais itens. Logo, o meio termos (b) atende a maioria no geral, impactando em um faturamento maior.\n",
    "\n",
    "*Promo2*: Uma promoção que se mantém em sequência tende a perder força, logo, impactando não tão positivamente no faturamento.\n"
   ]
  },
  {
   "cell_type": "markdown",
   "metadata": {},
   "source": [
    "Resumo Final: No Geral, os dados fazem bastante sentido. Claramente, estamos utilizando aqui nossas habilidades de negócio, e referência do modelo de negócio da rossmann. Vamos seguir em nossa análise."
   ]
  },
  {
   "cell_type": "markdown",
   "metadata": {},
   "source": [
    "### 2.3 Tratamento dos Tipos de Dados"
   ]
  },
  {
   "cell_type": "markdown",
   "metadata": {},
   "source": [
    "Para o nosso tratamento de dados, vamos trabalhar apenas no ajuste da variável Date. Vamos passá-la para datetime."
   ]
  },
  {
   "cell_type": "code",
   "execution_count": 15,
   "metadata": {},
   "outputs": [],
   "source": [
    "# Transformação de object para datetime\n",
    "df2['Date'] = pd.to_datetime(df2['Date'], format='%Y-%m-%d')"
   ]
  },
  {
   "cell_type": "markdown",
   "metadata": {},
   "source": [
    "### 2.4 Tratamento de Anomalias"
   ]
  },
  {
   "cell_type": "markdown",
   "metadata": {},
   "source": [
    "Ao analisar nosso resumo estatístico de valores numéricos, podemos observar uma anomaila na variável CompetitionSinceYear, uma vez que a a menor data que temos é 1900 e, entretanto, a rede foi fundada em 1972. Vamos filtrar esses dados"
   ]
  },
  {
   "cell_type": "code",
   "execution_count": 16,
   "metadata": {},
   "outputs": [
    {
     "name": "stdout",
     "output_type": "stream",
     "text": [
      "Lojas com data de inicio de concorrência igual a 1900: [815]\n"
     ]
    },
    {
     "data": {
      "text/html": [
       "<div>\n",
       "<style scoped>\n",
       "    .dataframe tbody tr th:only-of-type {\n",
       "        vertical-align: middle;\n",
       "    }\n",
       "\n",
       "    .dataframe tbody tr th {\n",
       "        vertical-align: top;\n",
       "    }\n",
       "\n",
       "    .dataframe thead th {\n",
       "        text-align: right;\n",
       "    }\n",
       "</style>\n",
       "<table border=\"1\" class=\"dataframe\">\n",
       "  <thead>\n",
       "    <tr style=\"text-align: right;\">\n",
       "      <th></th>\n",
       "      <th>Store</th>\n",
       "      <th>DayOfWeek</th>\n",
       "      <th>Date</th>\n",
       "      <th>Sales</th>\n",
       "      <th>Customers</th>\n",
       "      <th>Open</th>\n",
       "      <th>Promo</th>\n",
       "      <th>StateHoliday</th>\n",
       "      <th>SchoolHoliday</th>\n",
       "      <th>StoreType</th>\n",
       "      <th>Assortment</th>\n",
       "      <th>CompetitionDistance</th>\n",
       "      <th>CompetitionOpenSinceMonth</th>\n",
       "      <th>CompetitionOpenSinceYear</th>\n",
       "      <th>Promo2</th>\n",
       "    </tr>\n",
       "  </thead>\n",
       "  <tbody>\n",
       "    <tr>\n",
       "      <th>814</th>\n",
       "      <td>815</td>\n",
       "      <td>5</td>\n",
       "      <td>2015-07-31</td>\n",
       "      <td>8186</td>\n",
       "      <td>729</td>\n",
       "      <td>1</td>\n",
       "      <td>1</td>\n",
       "      <td>0</td>\n",
       "      <td>0</td>\n",
       "      <td>a</td>\n",
       "      <td>a</td>\n",
       "      <td>590.00</td>\n",
       "      <td>1.00</td>\n",
       "      <td>1900.00</td>\n",
       "      <td>1</td>\n",
       "    </tr>\n",
       "    <tr>\n",
       "      <th>1929</th>\n",
       "      <td>815</td>\n",
       "      <td>4</td>\n",
       "      <td>2015-07-30</td>\n",
       "      <td>7983</td>\n",
       "      <td>666</td>\n",
       "      <td>1</td>\n",
       "      <td>1</td>\n",
       "      <td>0</td>\n",
       "      <td>0</td>\n",
       "      <td>a</td>\n",
       "      <td>a</td>\n",
       "      <td>590.00</td>\n",
       "      <td>1.00</td>\n",
       "      <td>1900.00</td>\n",
       "      <td>1</td>\n",
       "    </tr>\n",
       "    <tr>\n",
       "      <th>3044</th>\n",
       "      <td>815</td>\n",
       "      <td>3</td>\n",
       "      <td>2015-07-29</td>\n",
       "      <td>6604</td>\n",
       "      <td>583</td>\n",
       "      <td>1</td>\n",
       "      <td>1</td>\n",
       "      <td>0</td>\n",
       "      <td>0</td>\n",
       "      <td>a</td>\n",
       "      <td>a</td>\n",
       "      <td>590.00</td>\n",
       "      <td>1.00</td>\n",
       "      <td>1900.00</td>\n",
       "      <td>1</td>\n",
       "    </tr>\n",
       "    <tr>\n",
       "      <th>4159</th>\n",
       "      <td>815</td>\n",
       "      <td>2</td>\n",
       "      <td>2015-07-28</td>\n",
       "      <td>7908</td>\n",
       "      <td>680</td>\n",
       "      <td>1</td>\n",
       "      <td>1</td>\n",
       "      <td>0</td>\n",
       "      <td>0</td>\n",
       "      <td>a</td>\n",
       "      <td>a</td>\n",
       "      <td>590.00</td>\n",
       "      <td>1.00</td>\n",
       "      <td>1900.00</td>\n",
       "      <td>1</td>\n",
       "    </tr>\n",
       "    <tr>\n",
       "      <th>5274</th>\n",
       "      <td>815</td>\n",
       "      <td>1</td>\n",
       "      <td>2015-07-27</td>\n",
       "      <td>8201</td>\n",
       "      <td>712</td>\n",
       "      <td>1</td>\n",
       "      <td>1</td>\n",
       "      <td>0</td>\n",
       "      <td>0</td>\n",
       "      <td>a</td>\n",
       "      <td>a</td>\n",
       "      <td>590.00</td>\n",
       "      <td>1.00</td>\n",
       "      <td>1900.00</td>\n",
       "      <td>1</td>\n",
       "    </tr>\n",
       "    <tr>\n",
       "      <th>...</th>\n",
       "      <td>...</td>\n",
       "      <td>...</td>\n",
       "      <td>...</td>\n",
       "      <td>...</td>\n",
       "      <td>...</td>\n",
       "      <td>...</td>\n",
       "      <td>...</td>\n",
       "      <td>...</td>\n",
       "      <td>...</td>\n",
       "      <td>...</td>\n",
       "      <td>...</td>\n",
       "      <td>...</td>\n",
       "      <td>...</td>\n",
       "      <td>...</td>\n",
       "      <td>...</td>\n",
       "    </tr>\n",
       "    <tr>\n",
       "      <th>1010219</th>\n",
       "      <td>815</td>\n",
       "      <td>1</td>\n",
       "      <td>2013-01-07</td>\n",
       "      <td>12868</td>\n",
       "      <td>1161</td>\n",
       "      <td>1</td>\n",
       "      <td>1</td>\n",
       "      <td>0</td>\n",
       "      <td>0</td>\n",
       "      <td>a</td>\n",
       "      <td>a</td>\n",
       "      <td>590.00</td>\n",
       "      <td>1.00</td>\n",
       "      <td>1900.00</td>\n",
       "      <td>1</td>\n",
       "    </tr>\n",
       "    <tr>\n",
       "      <th>1012449</th>\n",
       "      <td>815</td>\n",
       "      <td>6</td>\n",
       "      <td>2013-01-05</td>\n",
       "      <td>7843</td>\n",
       "      <td>767</td>\n",
       "      <td>1</td>\n",
       "      <td>0</td>\n",
       "      <td>0</td>\n",
       "      <td>0</td>\n",
       "      <td>a</td>\n",
       "      <td>a</td>\n",
       "      <td>590.00</td>\n",
       "      <td>1.00</td>\n",
       "      <td>1900.00</td>\n",
       "      <td>1</td>\n",
       "    </tr>\n",
       "    <tr>\n",
       "      <th>1013564</th>\n",
       "      <td>815</td>\n",
       "      <td>5</td>\n",
       "      <td>2013-01-04</td>\n",
       "      <td>8210</td>\n",
       "      <td>825</td>\n",
       "      <td>1</td>\n",
       "      <td>0</td>\n",
       "      <td>0</td>\n",
       "      <td>1</td>\n",
       "      <td>a</td>\n",
       "      <td>a</td>\n",
       "      <td>590.00</td>\n",
       "      <td>1.00</td>\n",
       "      <td>1900.00</td>\n",
       "      <td>1</td>\n",
       "    </tr>\n",
       "    <tr>\n",
       "      <th>1014679</th>\n",
       "      <td>815</td>\n",
       "      <td>4</td>\n",
       "      <td>2013-01-03</td>\n",
       "      <td>8059</td>\n",
       "      <td>828</td>\n",
       "      <td>1</td>\n",
       "      <td>0</td>\n",
       "      <td>0</td>\n",
       "      <td>1</td>\n",
       "      <td>a</td>\n",
       "      <td>a</td>\n",
       "      <td>590.00</td>\n",
       "      <td>1.00</td>\n",
       "      <td>1900.00</td>\n",
       "      <td>1</td>\n",
       "    </tr>\n",
       "    <tr>\n",
       "      <th>1015794</th>\n",
       "      <td>815</td>\n",
       "      <td>3</td>\n",
       "      <td>2013-01-02</td>\n",
       "      <td>9852</td>\n",
       "      <td>1024</td>\n",
       "      <td>1</td>\n",
       "      <td>0</td>\n",
       "      <td>0</td>\n",
       "      <td>1</td>\n",
       "      <td>a</td>\n",
       "      <td>a</td>\n",
       "      <td>590.00</td>\n",
       "      <td>1.00</td>\n",
       "      <td>1900.00</td>\n",
       "      <td>1</td>\n",
       "    </tr>\n",
       "  </tbody>\n",
       "</table>\n",
       "<p>622 rows × 15 columns</p>\n",
       "</div>"
      ],
      "text/plain": [
       "         Store  DayOfWeek       Date  Sales  Customers  Open  Promo  \\\n",
       "814        815          5 2015-07-31   8186        729     1      1   \n",
       "1929       815          4 2015-07-30   7983        666     1      1   \n",
       "3044       815          3 2015-07-29   6604        583     1      1   \n",
       "4159       815          2 2015-07-28   7908        680     1      1   \n",
       "5274       815          1 2015-07-27   8201        712     1      1   \n",
       "...        ...        ...        ...    ...        ...   ...    ...   \n",
       "1010219    815          1 2013-01-07  12868       1161     1      1   \n",
       "1012449    815          6 2013-01-05   7843        767     1      0   \n",
       "1013564    815          5 2013-01-04   8210        825     1      0   \n",
       "1014679    815          4 2013-01-03   8059        828     1      0   \n",
       "1015794    815          3 2013-01-02   9852       1024     1      0   \n",
       "\n",
       "        StateHoliday  SchoolHoliday StoreType Assortment  CompetitionDistance  \\\n",
       "814                0              0         a          a               590.00   \n",
       "1929               0              0         a          a               590.00   \n",
       "3044               0              0         a          a               590.00   \n",
       "4159               0              0         a          a               590.00   \n",
       "5274               0              0         a          a               590.00   \n",
       "...              ...            ...       ...        ...                  ...   \n",
       "1010219            0              0         a          a               590.00   \n",
       "1012449            0              0         a          a               590.00   \n",
       "1013564            0              1         a          a               590.00   \n",
       "1014679            0              1         a          a               590.00   \n",
       "1015794            0              1         a          a               590.00   \n",
       "\n",
       "         CompetitionOpenSinceMonth  CompetitionOpenSinceYear  Promo2  \n",
       "814                           1.00                   1900.00       1  \n",
       "1929                          1.00                   1900.00       1  \n",
       "3044                          1.00                   1900.00       1  \n",
       "4159                          1.00                   1900.00       1  \n",
       "5274                          1.00                   1900.00       1  \n",
       "...                            ...                       ...     ...  \n",
       "1010219                       1.00                   1900.00       1  \n",
       "1012449                       1.00                   1900.00       1  \n",
       "1013564                       1.00                   1900.00       1  \n",
       "1014679                       1.00                   1900.00       1  \n",
       "1015794                       1.00                   1900.00       1  \n",
       "\n",
       "[622 rows x 15 columns]"
      ]
     },
     "execution_count": 16,
     "metadata": {},
     "output_type": "execute_result"
    }
   ],
   "source": [
    "print('Lojas com data de inicio de concorrência igual a 1900: {}'.format(df2[df2['CompetitionOpenSinceYear'] == 1900]['Store'].unique()))\n",
    "\n",
    "# Dados relacionados a 1900.\n",
    "df2[df2['CompetitionOpenSinceYear'] == 1900]\n"
   ]
  },
  {
   "cell_type": "markdown",
   "metadata": {},
   "source": [
    "Podemos ver que é apenas uma loja, logo, talvez tenhamos algum erro de dígito. Sendo assim, vamos substituir a o ano de abertura pela menor data de vendas."
   ]
  },
  {
   "cell_type": "code",
   "execution_count": 17,
   "metadata": {},
   "outputs": [],
   "source": [
    "# Tratativa da Data\n",
    "df2.loc[df2[df2['Store'] == 815].index.tolist(), 'CompetitionOpenSinceYear'] = df2[df2['Store'] == 815]['Date'].min().year"
   ]
  },
  {
   "cell_type": "markdown",
   "metadata": {},
   "source": [
    "Uma vez tratado, vamos novamente ver o nosso resumo estatístico"
   ]
  },
  {
   "cell_type": "code",
   "execution_count": 18,
   "metadata": {},
   "outputs": [
    {
     "data": {
      "text/html": [
       "<div>\n",
       "<style scoped>\n",
       "    .dataframe tbody tr th:only-of-type {\n",
       "        vertical-align: middle;\n",
       "    }\n",
       "\n",
       "    .dataframe tbody tr th {\n",
       "        vertical-align: top;\n",
       "    }\n",
       "\n",
       "    .dataframe thead th {\n",
       "        text-align: right;\n",
       "    }\n",
       "</style>\n",
       "<table border=\"1\" class=\"dataframe\">\n",
       "  <thead>\n",
       "    <tr style=\"text-align: right;\">\n",
       "      <th></th>\n",
       "      <th>Store</th>\n",
       "      <th>DayOfWeek</th>\n",
       "      <th>Sales</th>\n",
       "      <th>Customers</th>\n",
       "      <th>Open</th>\n",
       "      <th>Promo</th>\n",
       "      <th>SchoolHoliday</th>\n",
       "      <th>CompetitionDistance</th>\n",
       "      <th>CompetitionOpenSinceMonth</th>\n",
       "      <th>CompetitionOpenSinceYear</th>\n",
       "      <th>Promo2</th>\n",
       "    </tr>\n",
       "  </thead>\n",
       "  <tbody>\n",
       "    <tr>\n",
       "      <th>count</th>\n",
       "      <td>844392.00</td>\n",
       "      <td>844392.00</td>\n",
       "      <td>844392.00</td>\n",
       "      <td>844392.00</td>\n",
       "      <td>844392.00</td>\n",
       "      <td>844392.00</td>\n",
       "      <td>844392.00</td>\n",
       "      <td>842206.00</td>\n",
       "      <td>575773.00</td>\n",
       "      <td>575773.00</td>\n",
       "      <td>844392.00</td>\n",
       "    </tr>\n",
       "    <tr>\n",
       "      <th>mean</th>\n",
       "      <td>558.42</td>\n",
       "      <td>3.52</td>\n",
       "      <td>6955.51</td>\n",
       "      <td>762.73</td>\n",
       "      <td>1.00</td>\n",
       "      <td>0.45</td>\n",
       "      <td>0.19</td>\n",
       "      <td>5457.98</td>\n",
       "      <td>7.22</td>\n",
       "      <td>2008.82</td>\n",
       "      <td>0.50</td>\n",
       "    </tr>\n",
       "    <tr>\n",
       "      <th>std</th>\n",
       "      <td>321.73</td>\n",
       "      <td>1.72</td>\n",
       "      <td>3104.21</td>\n",
       "      <td>401.23</td>\n",
       "      <td>0.00</td>\n",
       "      <td>0.50</td>\n",
       "      <td>0.40</td>\n",
       "      <td>7809.44</td>\n",
       "      <td>3.21</td>\n",
       "      <td>4.79</td>\n",
       "      <td>0.50</td>\n",
       "    </tr>\n",
       "    <tr>\n",
       "      <th>min</th>\n",
       "      <td>1.00</td>\n",
       "      <td>1.00</td>\n",
       "      <td>0.00</td>\n",
       "      <td>0.00</td>\n",
       "      <td>1.00</td>\n",
       "      <td>0.00</td>\n",
       "      <td>0.00</td>\n",
       "      <td>20.00</td>\n",
       "      <td>1.00</td>\n",
       "      <td>1961.00</td>\n",
       "      <td>0.00</td>\n",
       "    </tr>\n",
       "    <tr>\n",
       "      <th>25%</th>\n",
       "      <td>280.00</td>\n",
       "      <td>2.00</td>\n",
       "      <td>4859.00</td>\n",
       "      <td>519.00</td>\n",
       "      <td>1.00</td>\n",
       "      <td>0.00</td>\n",
       "      <td>0.00</td>\n",
       "      <td>710.00</td>\n",
       "      <td>4.00</td>\n",
       "      <td>2006.00</td>\n",
       "      <td>0.00</td>\n",
       "    </tr>\n",
       "    <tr>\n",
       "      <th>50%</th>\n",
       "      <td>558.00</td>\n",
       "      <td>3.00</td>\n",
       "      <td>6369.00</td>\n",
       "      <td>676.00</td>\n",
       "      <td>1.00</td>\n",
       "      <td>0.00</td>\n",
       "      <td>0.00</td>\n",
       "      <td>2320.00</td>\n",
       "      <td>8.00</td>\n",
       "      <td>2010.00</td>\n",
       "      <td>0.00</td>\n",
       "    </tr>\n",
       "    <tr>\n",
       "      <th>75%</th>\n",
       "      <td>837.00</td>\n",
       "      <td>5.00</td>\n",
       "      <td>8360.00</td>\n",
       "      <td>893.00</td>\n",
       "      <td>1.00</td>\n",
       "      <td>1.00</td>\n",
       "      <td>0.00</td>\n",
       "      <td>6890.00</td>\n",
       "      <td>10.00</td>\n",
       "      <td>2013.00</td>\n",
       "      <td>1.00</td>\n",
       "    </tr>\n",
       "    <tr>\n",
       "      <th>max</th>\n",
       "      <td>1115.00</td>\n",
       "      <td>7.00</td>\n",
       "      <td>41551.00</td>\n",
       "      <td>7388.00</td>\n",
       "      <td>1.00</td>\n",
       "      <td>1.00</td>\n",
       "      <td>1.00</td>\n",
       "      <td>75860.00</td>\n",
       "      <td>12.00</td>\n",
       "      <td>2015.00</td>\n",
       "      <td>1.00</td>\n",
       "    </tr>\n",
       "  </tbody>\n",
       "</table>\n",
       "</div>"
      ],
      "text/plain": [
       "          Store  DayOfWeek     Sales  Customers      Open     Promo  \\\n",
       "count 844392.00  844392.00 844392.00  844392.00 844392.00 844392.00   \n",
       "mean     558.42       3.52   6955.51     762.73      1.00      0.45   \n",
       "std      321.73       1.72   3104.21     401.23      0.00      0.50   \n",
       "min        1.00       1.00      0.00       0.00      1.00      0.00   \n",
       "25%      280.00       2.00   4859.00     519.00      1.00      0.00   \n",
       "50%      558.00       3.00   6369.00     676.00      1.00      0.00   \n",
       "75%      837.00       5.00   8360.00     893.00      1.00      1.00   \n",
       "max     1115.00       7.00  41551.00    7388.00      1.00      1.00   \n",
       "\n",
       "       SchoolHoliday  CompetitionDistance  CompetitionOpenSinceMonth  \\\n",
       "count      844392.00            842206.00                  575773.00   \n",
       "mean            0.19              5457.98                       7.22   \n",
       "std             0.40              7809.44                       3.21   \n",
       "min             0.00                20.00                       1.00   \n",
       "25%             0.00               710.00                       4.00   \n",
       "50%             0.00              2320.00                       8.00   \n",
       "75%             0.00              6890.00                      10.00   \n",
       "max             1.00             75860.00                      12.00   \n",
       "\n",
       "       CompetitionOpenSinceYear    Promo2  \n",
       "count                 575773.00 844392.00  \n",
       "mean                    2008.82      0.50  \n",
       "std                        4.79      0.50  \n",
       "min                     1961.00      0.00  \n",
       "25%                     2006.00      0.00  \n",
       "50%                     2010.00      0.00  \n",
       "75%                     2013.00      1.00  \n",
       "max                     2015.00      1.00  "
      ]
     },
     "execution_count": 18,
     "metadata": {},
     "output_type": "execute_result"
    }
   ],
   "source": [
    "# Obtenção das variáveis numéricas\n",
    "df2_numerica = df2.select_dtypes(include=['int64', 'float64'])\n",
    "\n",
    "# Resumo Estatístico\n",
    "df2_numerica.describe()"
   ]
  },
  {
   "cell_type": "markdown",
   "metadata": {},
   "source": [
    "Com a anomalia removida, vamos para a nossa próxima etapa, que no caso, é o tratamento de dados nulos."
   ]
  },
  {
   "cell_type": "markdown",
   "metadata": {},
   "source": [
    "### 2.5 Tratamento de Dados Nulos"
   ]
  },
  {
   "cell_type": "code",
   "execution_count": 19,
   "metadata": {},
   "outputs": [
    {
     "name": "stdout",
     "output_type": "stream",
     "text": [
      "Variáveis e as suas quantidade de dados nulos: \n",
      "CompetitionDistance            2186\n",
      "CompetitionOpenSinceMonth    268619\n",
      "CompetitionOpenSinceYear     268619\n",
      "dtype: int64\n"
     ]
    }
   ],
   "source": [
    "# Quantidade de Dados Nulos\n",
    "print(f'Variáveis e as suas quantidade de dados nulos: \\n{df2.isna().sum()[df2.isna().sum()> 0]}')"
   ]
  },
  {
   "cell_type": "markdown",
   "metadata": {},
   "source": [
    "Vamos analisar mais afundo essas variáveis e entender como podemos tratar esses dados nulos. "
   ]
  },
  {
   "cell_type": "markdown",
   "metadata": {},
   "source": [
    "**Competition Distance**"
   ]
  },
  {
   "cell_type": "code",
   "execution_count": 20,
   "metadata": {},
   "outputs": [
    {
     "data": {
      "text/html": [
       "<div>\n",
       "<style scoped>\n",
       "    .dataframe tbody tr th:only-of-type {\n",
       "        vertical-align: middle;\n",
       "    }\n",
       "\n",
       "    .dataframe tbody tr th {\n",
       "        vertical-align: top;\n",
       "    }\n",
       "\n",
       "    .dataframe thead th {\n",
       "        text-align: right;\n",
       "    }\n",
       "</style>\n",
       "<table border=\"1\" class=\"dataframe\">\n",
       "  <thead>\n",
       "    <tr style=\"text-align: right;\">\n",
       "      <th></th>\n",
       "      <th>Store</th>\n",
       "      <th>DayOfWeek</th>\n",
       "      <th>Date</th>\n",
       "      <th>Sales</th>\n",
       "      <th>Customers</th>\n",
       "      <th>Open</th>\n",
       "      <th>Promo</th>\n",
       "      <th>StateHoliday</th>\n",
       "      <th>SchoolHoliday</th>\n",
       "      <th>StoreType</th>\n",
       "      <th>Assortment</th>\n",
       "      <th>CompetitionDistance</th>\n",
       "      <th>CompetitionOpenSinceMonth</th>\n",
       "      <th>CompetitionOpenSinceYear</th>\n",
       "      <th>Promo2</th>\n",
       "    </tr>\n",
       "  </thead>\n",
       "  <tbody>\n",
       "    <tr>\n",
       "      <th>1015270</th>\n",
       "      <td>291</td>\n",
       "      <td>3</td>\n",
       "      <td>2013-01-02</td>\n",
       "      <td>7658</td>\n",
       "      <td>876</td>\n",
       "      <td>1</td>\n",
       "      <td>0</td>\n",
       "      <td>0</td>\n",
       "      <td>1</td>\n",
       "      <td>d</td>\n",
       "      <td>a</td>\n",
       "      <td>NaN</td>\n",
       "      <td>NaN</td>\n",
       "      <td>NaN</td>\n",
       "      <td>0</td>\n",
       "    </tr>\n",
       "    <tr>\n",
       "      <th>1014155</th>\n",
       "      <td>291</td>\n",
       "      <td>4</td>\n",
       "      <td>2013-01-03</td>\n",
       "      <td>7285</td>\n",
       "      <td>871</td>\n",
       "      <td>1</td>\n",
       "      <td>0</td>\n",
       "      <td>0</td>\n",
       "      <td>0</td>\n",
       "      <td>d</td>\n",
       "      <td>a</td>\n",
       "      <td>NaN</td>\n",
       "      <td>NaN</td>\n",
       "      <td>NaN</td>\n",
       "      <td>0</td>\n",
       "    </tr>\n",
       "    <tr>\n",
       "      <th>1013040</th>\n",
       "      <td>291</td>\n",
       "      <td>5</td>\n",
       "      <td>2013-01-04</td>\n",
       "      <td>7687</td>\n",
       "      <td>920</td>\n",
       "      <td>1</td>\n",
       "      <td>0</td>\n",
       "      <td>0</td>\n",
       "      <td>0</td>\n",
       "      <td>d</td>\n",
       "      <td>a</td>\n",
       "      <td>NaN</td>\n",
       "      <td>NaN</td>\n",
       "      <td>NaN</td>\n",
       "      <td>0</td>\n",
       "    </tr>\n",
       "    <tr>\n",
       "      <th>1011925</th>\n",
       "      <td>291</td>\n",
       "      <td>6</td>\n",
       "      <td>2013-01-05</td>\n",
       "      <td>5316</td>\n",
       "      <td>552</td>\n",
       "      <td>1</td>\n",
       "      <td>0</td>\n",
       "      <td>0</td>\n",
       "      <td>0</td>\n",
       "      <td>d</td>\n",
       "      <td>a</td>\n",
       "      <td>NaN</td>\n",
       "      <td>NaN</td>\n",
       "      <td>NaN</td>\n",
       "      <td>0</td>\n",
       "    </tr>\n",
       "    <tr>\n",
       "      <th>1009695</th>\n",
       "      <td>291</td>\n",
       "      <td>1</td>\n",
       "      <td>2013-01-07</td>\n",
       "      <td>13080</td>\n",
       "      <td>1316</td>\n",
       "      <td>1</td>\n",
       "      <td>1</td>\n",
       "      <td>0</td>\n",
       "      <td>0</td>\n",
       "      <td>d</td>\n",
       "      <td>a</td>\n",
       "      <td>NaN</td>\n",
       "      <td>NaN</td>\n",
       "      <td>NaN</td>\n",
       "      <td>0</td>\n",
       "    </tr>\n",
       "    <tr>\n",
       "      <th>...</th>\n",
       "      <td>...</td>\n",
       "      <td>...</td>\n",
       "      <td>...</td>\n",
       "      <td>...</td>\n",
       "      <td>...</td>\n",
       "      <td>...</td>\n",
       "      <td>...</td>\n",
       "      <td>...</td>\n",
       "      <td>...</td>\n",
       "      <td>...</td>\n",
       "      <td>...</td>\n",
       "      <td>...</td>\n",
       "      <td>...</td>\n",
       "      <td>...</td>\n",
       "      <td>...</td>\n",
       "    </tr>\n",
       "    <tr>\n",
       "      <th>5338</th>\n",
       "      <td>879</td>\n",
       "      <td>1</td>\n",
       "      <td>2015-07-27</td>\n",
       "      <td>5884</td>\n",
       "      <td>427</td>\n",
       "      <td>1</td>\n",
       "      <td>1</td>\n",
       "      <td>0</td>\n",
       "      <td>0</td>\n",
       "      <td>d</td>\n",
       "      <td>a</td>\n",
       "      <td>NaN</td>\n",
       "      <td>NaN</td>\n",
       "      <td>NaN</td>\n",
       "      <td>1</td>\n",
       "    </tr>\n",
       "    <tr>\n",
       "      <th>4223</th>\n",
       "      <td>879</td>\n",
       "      <td>2</td>\n",
       "      <td>2015-07-28</td>\n",
       "      <td>5320</td>\n",
       "      <td>389</td>\n",
       "      <td>1</td>\n",
       "      <td>1</td>\n",
       "      <td>0</td>\n",
       "      <td>0</td>\n",
       "      <td>d</td>\n",
       "      <td>a</td>\n",
       "      <td>NaN</td>\n",
       "      <td>NaN</td>\n",
       "      <td>NaN</td>\n",
       "      <td>1</td>\n",
       "    </tr>\n",
       "    <tr>\n",
       "      <th>3108</th>\n",
       "      <td>879</td>\n",
       "      <td>3</td>\n",
       "      <td>2015-07-29</td>\n",
       "      <td>5129</td>\n",
       "      <td>362</td>\n",
       "      <td>1</td>\n",
       "      <td>1</td>\n",
       "      <td>0</td>\n",
       "      <td>0</td>\n",
       "      <td>d</td>\n",
       "      <td>a</td>\n",
       "      <td>NaN</td>\n",
       "      <td>NaN</td>\n",
       "      <td>NaN</td>\n",
       "      <td>1</td>\n",
       "    </tr>\n",
       "    <tr>\n",
       "      <th>1993</th>\n",
       "      <td>879</td>\n",
       "      <td>4</td>\n",
       "      <td>2015-07-30</td>\n",
       "      <td>5861</td>\n",
       "      <td>426</td>\n",
       "      <td>1</td>\n",
       "      <td>1</td>\n",
       "      <td>0</td>\n",
       "      <td>0</td>\n",
       "      <td>d</td>\n",
       "      <td>a</td>\n",
       "      <td>NaN</td>\n",
       "      <td>NaN</td>\n",
       "      <td>NaN</td>\n",
       "      <td>1</td>\n",
       "    </tr>\n",
       "    <tr>\n",
       "      <th>878</th>\n",
       "      <td>879</td>\n",
       "      <td>5</td>\n",
       "      <td>2015-07-31</td>\n",
       "      <td>6000</td>\n",
       "      <td>466</td>\n",
       "      <td>1</td>\n",
       "      <td>1</td>\n",
       "      <td>0</td>\n",
       "      <td>0</td>\n",
       "      <td>d</td>\n",
       "      <td>a</td>\n",
       "      <td>NaN</td>\n",
       "      <td>NaN</td>\n",
       "      <td>NaN</td>\n",
       "      <td>1</td>\n",
       "    </tr>\n",
       "  </tbody>\n",
       "</table>\n",
       "<p>2186 rows × 15 columns</p>\n",
       "</div>"
      ],
      "text/plain": [
       "         Store  DayOfWeek       Date  Sales  Customers  Open  Promo  \\\n",
       "1015270    291          3 2013-01-02   7658        876     1      0   \n",
       "1014155    291          4 2013-01-03   7285        871     1      0   \n",
       "1013040    291          5 2013-01-04   7687        920     1      0   \n",
       "1011925    291          6 2013-01-05   5316        552     1      0   \n",
       "1009695    291          1 2013-01-07  13080       1316     1      1   \n",
       "...        ...        ...        ...    ...        ...   ...    ...   \n",
       "5338       879          1 2015-07-27   5884        427     1      1   \n",
       "4223       879          2 2015-07-28   5320        389     1      1   \n",
       "3108       879          3 2015-07-29   5129        362     1      1   \n",
       "1993       879          4 2015-07-30   5861        426     1      1   \n",
       "878        879          5 2015-07-31   6000        466     1      1   \n",
       "\n",
       "        StateHoliday  SchoolHoliday StoreType Assortment  CompetitionDistance  \\\n",
       "1015270            0              1         d          a                  NaN   \n",
       "1014155            0              0         d          a                  NaN   \n",
       "1013040            0              0         d          a                  NaN   \n",
       "1011925            0              0         d          a                  NaN   \n",
       "1009695            0              0         d          a                  NaN   \n",
       "...              ...            ...       ...        ...                  ...   \n",
       "5338               0              0         d          a                  NaN   \n",
       "4223               0              0         d          a                  NaN   \n",
       "3108               0              0         d          a                  NaN   \n",
       "1993               0              0         d          a                  NaN   \n",
       "878                0              0         d          a                  NaN   \n",
       "\n",
       "         CompetitionOpenSinceMonth  CompetitionOpenSinceYear  Promo2  \n",
       "1015270                        NaN                       NaN       0  \n",
       "1014155                        NaN                       NaN       0  \n",
       "1013040                        NaN                       NaN       0  \n",
       "1011925                        NaN                       NaN       0  \n",
       "1009695                        NaN                       NaN       0  \n",
       "...                            ...                       ...     ...  \n",
       "5338                           NaN                       NaN       1  \n",
       "4223                           NaN                       NaN       1  \n",
       "3108                           NaN                       NaN       1  \n",
       "1993                           NaN                       NaN       1  \n",
       "878                            NaN                       NaN       1  \n",
       "\n",
       "[2186 rows x 15 columns]"
      ]
     },
     "execution_count": 20,
     "metadata": {},
     "output_type": "execute_result"
    }
   ],
   "source": [
    "# Analisando os dados nulos da variável Competition Distance\n",
    "df2[df2['CompetitionDistance'].isna()].sort_values(by=['Store', 'Date'], ascending=True)"
   ]
  },
  {
   "cell_type": "markdown",
   "metadata": {},
   "source": [
    "Dada a baixa volumetria desses dados nulos e a sua natureza, vamos eliminá-los. Esses dados nulos podem ser dados por duas situações:\n",
    "\n",
    "1. Erro de inserções de dados. Necessário entender com os responsáveis.\n",
    "2. Concorrente está tão longe da loja, que se optou por não inserir informações. \n",
    "\n",
    "Seria necessário sentar com a área de dados e entender esses detalhes."
   ]
  },
  {
   "cell_type": "code",
   "execution_count": 21,
   "metadata": {},
   "outputs": [
    {
     "name": "stdout",
     "output_type": "stream",
     "text": [
      "Validação dos Dados: df2\n",
      "Quantidade de Linhas: 842206, Quantidade de Colunas: 15.\n"
     ]
    }
   ],
   "source": [
    "# Eliminando os dados em que o competition distance é nulo\n",
    "df2 = df2.drop(index=df2[df2['CompetitionDistance'].isna()].sort_values(by=['Store', 'Date'], ascending=True).index.tolist())\n",
    "\n",
    "# Validação dos Dados\n",
    "validacao_dados(df2,'df2')"
   ]
  },
  {
   "cell_type": "code",
   "execution_count": 22,
   "metadata": {},
   "outputs": [
    {
     "data": {
      "text/plain": [
       "CompetitionOpenSinceMonth    266433\n",
       "CompetitionOpenSinceYear     266433\n",
       "dtype: int64"
      ]
     },
     "execution_count": 22,
     "metadata": {},
     "output_type": "execute_result"
    }
   ],
   "source": [
    "# Validação dos Dados Nulos\n",
    "df2.isna().sum()[df2.isna().sum() > 0]"
   ]
  },
  {
   "cell_type": "markdown",
   "metadata": {},
   "source": [
    "**Competition Open Since Year**"
   ]
  },
  {
   "cell_type": "markdown",
   "metadata": {},
   "source": [
    "Vamos analisar os dados nulos dessa variável"
   ]
  },
  {
   "cell_type": "code",
   "execution_count": 23,
   "metadata": {},
   "outputs": [
    {
     "data": {
      "text/html": [
       "<div>\n",
       "<style scoped>\n",
       "    .dataframe tbody tr th:only-of-type {\n",
       "        vertical-align: middle;\n",
       "    }\n",
       "\n",
       "    .dataframe tbody tr th {\n",
       "        vertical-align: top;\n",
       "    }\n",
       "\n",
       "    .dataframe thead th {\n",
       "        text-align: right;\n",
       "    }\n",
       "</style>\n",
       "<table border=\"1\" class=\"dataframe\">\n",
       "  <thead>\n",
       "    <tr style=\"text-align: right;\">\n",
       "      <th></th>\n",
       "      <th>Store</th>\n",
       "      <th>DayOfWeek</th>\n",
       "      <th>Date</th>\n",
       "      <th>Sales</th>\n",
       "      <th>Customers</th>\n",
       "      <th>Open</th>\n",
       "      <th>Promo</th>\n",
       "      <th>StateHoliday</th>\n",
       "      <th>SchoolHoliday</th>\n",
       "      <th>StoreType</th>\n",
       "      <th>Assortment</th>\n",
       "      <th>CompetitionDistance</th>\n",
       "      <th>CompetitionOpenSinceMonth</th>\n",
       "      <th>CompetitionOpenSinceYear</th>\n",
       "      <th>Promo2</th>\n",
       "    </tr>\n",
       "  </thead>\n",
       "  <tbody>\n",
       "    <tr>\n",
       "      <th>421674</th>\n",
       "      <td>990</td>\n",
       "      <td>4</td>\n",
       "      <td>2014-06-19</td>\n",
       "      <td>6457</td>\n",
       "      <td>582</td>\n",
       "      <td>1</td>\n",
       "      <td>1</td>\n",
       "      <td>a</td>\n",
       "      <td>0</td>\n",
       "      <td>d</td>\n",
       "      <td>a</td>\n",
       "      <td>20930.00</td>\n",
       "      <td>NaN</td>\n",
       "      <td>NaN</td>\n",
       "      <td>0</td>\n",
       "    </tr>\n",
       "    <tr>\n",
       "      <th>434505</th>\n",
       "      <td>441</td>\n",
       "      <td>6</td>\n",
       "      <td>2014-06-07</td>\n",
       "      <td>6499</td>\n",
       "      <td>808</td>\n",
       "      <td>1</td>\n",
       "      <td>0</td>\n",
       "      <td>0</td>\n",
       "      <td>0</td>\n",
       "      <td>d</td>\n",
       "      <td>a</td>\n",
       "      <td>2530.00</td>\n",
       "      <td>NaN</td>\n",
       "      <td>NaN</td>\n",
       "      <td>0</td>\n",
       "    </tr>\n",
       "    <tr>\n",
       "      <th>4560</th>\n",
       "      <td>101</td>\n",
       "      <td>1</td>\n",
       "      <td>2015-07-27</td>\n",
       "      <td>10397</td>\n",
       "      <td>794</td>\n",
       "      <td>1</td>\n",
       "      <td>1</td>\n",
       "      <td>0</td>\n",
       "      <td>1</td>\n",
       "      <td>d</td>\n",
       "      <td>c</td>\n",
       "      <td>2440.00</td>\n",
       "      <td>NaN</td>\n",
       "      <td>NaN</td>\n",
       "      <td>1</td>\n",
       "    </tr>\n",
       "    <tr>\n",
       "      <th>963963</th>\n",
       "      <td>274</td>\n",
       "      <td>7</td>\n",
       "      <td>2013-02-17</td>\n",
       "      <td>7158</td>\n",
       "      <td>1232</td>\n",
       "      <td>1</td>\n",
       "      <td>0</td>\n",
       "      <td>0</td>\n",
       "      <td>0</td>\n",
       "      <td>b</td>\n",
       "      <td>b</td>\n",
       "      <td>3640.00</td>\n",
       "      <td>NaN</td>\n",
       "      <td>NaN</td>\n",
       "      <td>1</td>\n",
       "    </tr>\n",
       "    <tr>\n",
       "      <th>666665</th>\n",
       "      <td>681</td>\n",
       "      <td>1</td>\n",
       "      <td>2013-11-11</td>\n",
       "      <td>2953</td>\n",
       "      <td>441</td>\n",
       "      <td>1</td>\n",
       "      <td>0</td>\n",
       "      <td>0</td>\n",
       "      <td>0</td>\n",
       "      <td>a</td>\n",
       "      <td>c</td>\n",
       "      <td>620.00</td>\n",
       "      <td>NaN</td>\n",
       "      <td>NaN</td>\n",
       "      <td>1</td>\n",
       "    </tr>\n",
       "    <tr>\n",
       "      <th>135132</th>\n",
       "      <td>218</td>\n",
       "      <td>3</td>\n",
       "      <td>2015-04-01</td>\n",
       "      <td>7685</td>\n",
       "      <td>870</td>\n",
       "      <td>1</td>\n",
       "      <td>1</td>\n",
       "      <td>0</td>\n",
       "      <td>1</td>\n",
       "      <td>a</td>\n",
       "      <td>c</td>\n",
       "      <td>640.00</td>\n",
       "      <td>NaN</td>\n",
       "      <td>NaN</td>\n",
       "      <td>1</td>\n",
       "    </tr>\n",
       "    <tr>\n",
       "      <th>208236</th>\n",
       "      <td>847</td>\n",
       "      <td>1</td>\n",
       "      <td>2015-01-26</td>\n",
       "      <td>7088</td>\n",
       "      <td>951</td>\n",
       "      <td>1</td>\n",
       "      <td>1</td>\n",
       "      <td>0</td>\n",
       "      <td>0</td>\n",
       "      <td>c</td>\n",
       "      <td>c</td>\n",
       "      <td>190.00</td>\n",
       "      <td>NaN</td>\n",
       "      <td>NaN</td>\n",
       "      <td>1</td>\n",
       "    </tr>\n",
       "    <tr>\n",
       "      <th>11281</th>\n",
       "      <td>132</td>\n",
       "      <td>2</td>\n",
       "      <td>2015-07-21</td>\n",
       "      <td>6150</td>\n",
       "      <td>530</td>\n",
       "      <td>1</td>\n",
       "      <td>0</td>\n",
       "      <td>0</td>\n",
       "      <td>0</td>\n",
       "      <td>d</td>\n",
       "      <td>c</td>\n",
       "      <td>1040.00</td>\n",
       "      <td>NaN</td>\n",
       "      <td>NaN</td>\n",
       "      <td>1</td>\n",
       "    </tr>\n",
       "    <tr>\n",
       "      <th>30283</th>\n",
       "      <td>179</td>\n",
       "      <td>6</td>\n",
       "      <td>2015-07-04</td>\n",
       "      <td>5009</td>\n",
       "      <td>710</td>\n",
       "      <td>1</td>\n",
       "      <td>0</td>\n",
       "      <td>0</td>\n",
       "      <td>0</td>\n",
       "      <td>a</td>\n",
       "      <td>c</td>\n",
       "      <td>480.00</td>\n",
       "      <td>NaN</td>\n",
       "      <td>NaN</td>\n",
       "      <td>0</td>\n",
       "    </tr>\n",
       "    <tr>\n",
       "      <th>146015</th>\n",
       "      <td>1066</td>\n",
       "      <td>1</td>\n",
       "      <td>2015-03-23</td>\n",
       "      <td>10650</td>\n",
       "      <td>1117</td>\n",
       "      <td>1</td>\n",
       "      <td>0</td>\n",
       "      <td>0</td>\n",
       "      <td>0</td>\n",
       "      <td>a</td>\n",
       "      <td>a</td>\n",
       "      <td>3350.00</td>\n",
       "      <td>NaN</td>\n",
       "      <td>NaN</td>\n",
       "      <td>0</td>\n",
       "    </tr>\n",
       "  </tbody>\n",
       "</table>\n",
       "</div>"
      ],
      "text/plain": [
       "        Store  DayOfWeek       Date  Sales  Customers  Open  Promo  \\\n",
       "421674    990          4 2014-06-19   6457        582     1      1   \n",
       "434505    441          6 2014-06-07   6499        808     1      0   \n",
       "4560      101          1 2015-07-27  10397        794     1      1   \n",
       "963963    274          7 2013-02-17   7158       1232     1      0   \n",
       "666665    681          1 2013-11-11   2953        441     1      0   \n",
       "135132    218          3 2015-04-01   7685        870     1      1   \n",
       "208236    847          1 2015-01-26   7088        951     1      1   \n",
       "11281     132          2 2015-07-21   6150        530     1      0   \n",
       "30283     179          6 2015-07-04   5009        710     1      0   \n",
       "146015   1066          1 2015-03-23  10650       1117     1      0   \n",
       "\n",
       "       StateHoliday  SchoolHoliday StoreType Assortment  CompetitionDistance  \\\n",
       "421674            a              0         d          a             20930.00   \n",
       "434505            0              0         d          a              2530.00   \n",
       "4560              0              1         d          c              2440.00   \n",
       "963963            0              0         b          b              3640.00   \n",
       "666665            0              0         a          c               620.00   \n",
       "135132            0              1         a          c               640.00   \n",
       "208236            0              0         c          c               190.00   \n",
       "11281             0              0         d          c              1040.00   \n",
       "30283             0              0         a          c               480.00   \n",
       "146015            0              0         a          a              3350.00   \n",
       "\n",
       "        CompetitionOpenSinceMonth  CompetitionOpenSinceYear  Promo2  \n",
       "421674                        NaN                       NaN       0  \n",
       "434505                        NaN                       NaN       0  \n",
       "4560                          NaN                       NaN       1  \n",
       "963963                        NaN                       NaN       1  \n",
       "666665                        NaN                       NaN       1  \n",
       "135132                        NaN                       NaN       1  \n",
       "208236                        NaN                       NaN       1  \n",
       "11281                         NaN                       NaN       1  \n",
       "30283                         NaN                       NaN       0  \n",
       "146015                        NaN                       NaN       0  "
      ]
     },
     "execution_count": 23,
     "metadata": {},
     "output_type": "execute_result"
    }
   ],
   "source": [
    "# Obtenção dos Dados\n",
    "df2[df2['CompetitionOpenSinceYear'].isna()].sample(n=10)"
   ]
  },
  {
   "cell_type": "markdown",
   "metadata": {},
   "source": [
    "Observe que, ao analisar esses dados nulos, vemos que temos a informação de concorrentes que estamos a uma certa distância, todavia, não há informações de qual ano essa concorrente iniciou. Sendo assim, vamos assumir que a data mais antiga de compra é quando esse cliente iniciou. Observe que, aqui, é necessário tratar de fato, pois o volume dados nulos é bem grande."
   ]
  },
  {
   "cell_type": "code",
   "execution_count": 24,
   "metadata": {},
   "outputs": [
    {
     "name": "stdout",
     "output_type": "stream",
     "text": [
      "Quantidade de Dados Nulos: \n",
      "CompetitionOpenSinceMonth    266433\n",
      "dtype: int64\n"
     ]
    }
   ],
   "source": [
    "# Obtendo a menor data de vendas em relação a cada loja.\n",
    "competition_date = df2[['Store', 'Date']].groupby('Store').min().reset_index()\n",
    "\n",
    "# Vamos extrair o anoa dessas datas\n",
    "competition_date['MinDate'] =  competition_date['Date'].apply(lambda x: x.year)\n",
    "\n",
    "# Eliminando colunas desnecessárias\n",
    "competition_date = competition_date.drop(columns=['Date'], axis=1)\n",
    "\n",
    "# Aplicação de um left join para preencher os dados nulos\n",
    "df2 = df2.merge(competition_date, how='left', on='Store')\n",
    "\n",
    "# Eliminando os Dados Nulos dos Anos\n",
    "df2['CompetitionOpenSinceYear'] = np.where(df2['CompetitionOpenSinceYear'].isna(), df2['MinDate'], df2['CompetitionOpenSinceYear'])\n",
    "\n",
    "# Validação\n",
    "print(f'Quantidade de Dados Nulos: \\n{df2.isna().sum()[df2.isna().sum() > 0]}')"
   ]
  },
  {
   "cell_type": "markdown",
   "metadata": {},
   "source": [
    "**Competition Open Since Month**"
   ]
  },
  {
   "cell_type": "markdown",
   "metadata": {},
   "source": [
    "Idem a ideia da variável anterior"
   ]
  },
  {
   "cell_type": "code",
   "execution_count": 25,
   "metadata": {},
   "outputs": [
    {
     "name": "stdout",
     "output_type": "stream",
     "text": [
      "Quantidade de Dados Nulos: \n",
      "Series([], dtype: int64)\n"
     ]
    }
   ],
   "source": [
    "# Obtendo a menor data de vendas em relação a cada loja.\n",
    "competition_date = df2[['Store', 'Date']].groupby('Store').min().reset_index()\n",
    "\n",
    "# Vamos extrair o anoa dessas datas\n",
    "competition_date['MinMonth'] =  competition_date['Date'].apply(lambda x: x.month)\n",
    "\n",
    "# Eliminando colunas desnecessárias\n",
    "competition_date = competition_date.drop(columns=['Date'], axis=1)\n",
    "\n",
    "# Aplicação de um left join para preencher os dados nulos\n",
    "df2 = df2.merge(competition_date, how='left', on='Store')\n",
    "\n",
    "# Eliminando os Dados Nulos dos Anos\n",
    "df2['CompetitionOpenSinceMonth'] = np.where(df2['CompetitionOpenSinceMonth'].isna(), df2['MinDate'], df2['CompetitionOpenSinceMonth'])\n",
    "\n",
    "# Validação\n",
    "print(f'Quantidade de Dados Nulos: \\n{df2.isna().sum()[df2.isna().sum() > 0]}')"
   ]
  },
  {
   "cell_type": "code",
   "execution_count": 26,
   "metadata": {},
   "outputs": [],
   "source": [
    "# Dropando as colunas desnecessárias\n",
    "df2 = df2.drop(columns=['MinMonth', 'MinDate'], axis=1)"
   ]
  },
  {
   "cell_type": "markdown",
   "metadata": {},
   "source": [
    "Com os dados devidamente tratados, podemos ir para a nossa próxima etapa, que é, o tratamento de Outliers."
   ]
  },
  {
   "cell_type": "markdown",
   "metadata": {},
   "source": [
    "### 2.5 Tratamento de Outliers"
   ]
  },
  {
   "cell_type": "markdown",
   "metadata": {},
   "source": [
    "Dado nosso problema de negócio e as nossas variáveis, faz sentido analisarmos as seguintes variáveis:\n",
    "* Sales\n",
    "* Customers\n",
    "* CompetitionDistance"
   ]
  },
  {
   "cell_type": "code",
   "execution_count": 27,
   "metadata": {},
   "outputs": [
    {
     "data": {
      "image/png": "[encoded data removed]",
      "text/plain": [
       "<Figure size 1500x500 with 3 Axes>"
      ]
     },
     "metadata": {},
     "output_type": "display_data"
    }
   ],
   "source": [
    "# Plotando Gráficos\n",
    "fig, ax = plt.subplots(1, 3, figsize=(15,5))\n",
    "sbn.boxplot(data=df2, y='Customers', ax=ax[0]);\n",
    "sbn.boxplot(data=df2, y='CompetitionDistance', ax=ax[1]);\n",
    "sbn.boxplot(data=df2, y='Sales', ax=ax[2]);"
   ]
  },
  {
   "cell_type": "markdown",
   "metadata": {},
   "source": [
    "Observe que temos a presença de muitos outliers nos nossos dados. Entretanto, precisamos entender que esses outliers não são anomalias, mas sim, características naturais dos dados.\n",
    "Logo, não é recomendado que nós deletemos eles, entretanto, cogitemos modelos que consigam superar esses outliers."
   ]
  },
  {
   "cell_type": "code",
   "execution_count": 28,
   "metadata": {},
   "outputs": [
    {
     "data": {
      "text/html": [
       "<div>\n",
       "<style scoped>\n",
       "    .dataframe tbody tr th:only-of-type {\n",
       "        vertical-align: middle;\n",
       "    }\n",
       "\n",
       "    .dataframe tbody tr th {\n",
       "        vertical-align: top;\n",
       "    }\n",
       "\n",
       "    .dataframe thead th {\n",
       "        text-align: right;\n",
       "    }\n",
       "</style>\n",
       "<table border=\"1\" class=\"dataframe\">\n",
       "  <thead>\n",
       "    <tr style=\"text-align: right;\">\n",
       "      <th></th>\n",
       "      <th>Store</th>\n",
       "      <th>DayOfWeek</th>\n",
       "      <th>Sales</th>\n",
       "      <th>Customers</th>\n",
       "      <th>Open</th>\n",
       "      <th>Promo</th>\n",
       "      <th>SchoolHoliday</th>\n",
       "      <th>CompetitionDistance</th>\n",
       "      <th>CompetitionOpenSinceMonth</th>\n",
       "      <th>CompetitionOpenSinceYear</th>\n",
       "      <th>Promo2</th>\n",
       "    </tr>\n",
       "  </thead>\n",
       "  <tbody>\n",
       "    <tr>\n",
       "      <th>count</th>\n",
       "      <td>842206.00</td>\n",
       "      <td>842206.00</td>\n",
       "      <td>842206.00</td>\n",
       "      <td>842206.00</td>\n",
       "      <td>842206.00</td>\n",
       "      <td>842206.00</td>\n",
       "      <td>842206.00</td>\n",
       "      <td>842206.00</td>\n",
       "      <td>842206.00</td>\n",
       "      <td>842206.00</td>\n",
       "      <td>842206.00</td>\n",
       "    </tr>\n",
       "    <tr>\n",
       "      <th>mean</th>\n",
       "      <td>558.37</td>\n",
       "      <td>3.52</td>\n",
       "      <td>6959.34</td>\n",
       "      <td>763.27</td>\n",
       "      <td>1.00</td>\n",
       "      <td>0.45</td>\n",
       "      <td>0.19</td>\n",
       "      <td>5457.98</td>\n",
       "      <td>641.75</td>\n",
       "      <td>2010.14</td>\n",
       "      <td>0.50</td>\n",
       "    </tr>\n",
       "    <tr>\n",
       "      <th>std</th>\n",
       "      <td>321.92</td>\n",
       "      <td>1.72</td>\n",
       "      <td>3104.46</td>\n",
       "      <td>401.38</td>\n",
       "      <td>0.00</td>\n",
       "      <td>0.50</td>\n",
       "      <td>0.40</td>\n",
       "      <td>7809.44</td>\n",
       "      <td>932.79</td>\n",
       "      <td>4.41</td>\n",
       "      <td>0.50</td>\n",
       "    </tr>\n",
       "    <tr>\n",
       "      <th>min</th>\n",
       "      <td>1.00</td>\n",
       "      <td>1.00</td>\n",
       "      <td>0.00</td>\n",
       "      <td>0.00</td>\n",
       "      <td>1.00</td>\n",
       "      <td>0.00</td>\n",
       "      <td>0.00</td>\n",
       "      <td>20.00</td>\n",
       "      <td>1.00</td>\n",
       "      <td>1961.00</td>\n",
       "      <td>0.00</td>\n",
       "    </tr>\n",
       "    <tr>\n",
       "      <th>25%</th>\n",
       "      <td>280.00</td>\n",
       "      <td>2.00</td>\n",
       "      <td>4864.00</td>\n",
       "      <td>519.00</td>\n",
       "      <td>1.00</td>\n",
       "      <td>0.00</td>\n",
       "      <td>0.00</td>\n",
       "      <td>710.00</td>\n",
       "      <td>6.00</td>\n",
       "      <td>2008.00</td>\n",
       "      <td>0.00</td>\n",
       "    </tr>\n",
       "    <tr>\n",
       "      <th>50%</th>\n",
       "      <td>557.00</td>\n",
       "      <td>3.00</td>\n",
       "      <td>6373.00</td>\n",
       "      <td>676.00</td>\n",
       "      <td>1.00</td>\n",
       "      <td>0.00</td>\n",
       "      <td>0.00</td>\n",
       "      <td>2320.00</td>\n",
       "      <td>10.00</td>\n",
       "      <td>2012.00</td>\n",
       "      <td>0.00</td>\n",
       "    </tr>\n",
       "    <tr>\n",
       "      <th>75%</th>\n",
       "      <td>837.00</td>\n",
       "      <td>5.00</td>\n",
       "      <td>8363.00</td>\n",
       "      <td>893.00</td>\n",
       "      <td>1.00</td>\n",
       "      <td>1.00</td>\n",
       "      <td>0.00</td>\n",
       "      <td>6890.00</td>\n",
       "      <td>2013.00</td>\n",
       "      <td>2013.00</td>\n",
       "      <td>1.00</td>\n",
       "    </tr>\n",
       "    <tr>\n",
       "      <th>max</th>\n",
       "      <td>1115.00</td>\n",
       "      <td>7.00</td>\n",
       "      <td>41551.00</td>\n",
       "      <td>7388.00</td>\n",
       "      <td>1.00</td>\n",
       "      <td>1.00</td>\n",
       "      <td>1.00</td>\n",
       "      <td>75860.00</td>\n",
       "      <td>2013.00</td>\n",
       "      <td>2015.00</td>\n",
       "      <td>1.00</td>\n",
       "    </tr>\n",
       "  </tbody>\n",
       "</table>\n",
       "</div>"
      ],
      "text/plain": [
       "          Store  DayOfWeek     Sales  Customers      Open     Promo  \\\n",
       "count 842206.00  842206.00 842206.00  842206.00 842206.00 842206.00   \n",
       "mean     558.37       3.52   6959.34     763.27      1.00      0.45   \n",
       "std      321.92       1.72   3104.46     401.38      0.00      0.50   \n",
       "min        1.00       1.00      0.00       0.00      1.00      0.00   \n",
       "25%      280.00       2.00   4864.00     519.00      1.00      0.00   \n",
       "50%      557.00       3.00   6373.00     676.00      1.00      0.00   \n",
       "75%      837.00       5.00   8363.00     893.00      1.00      1.00   \n",
       "max     1115.00       7.00  41551.00    7388.00      1.00      1.00   \n",
       "\n",
       "       SchoolHoliday  CompetitionDistance  CompetitionOpenSinceMonth  \\\n",
       "count      842206.00            842206.00                  842206.00   \n",
       "mean            0.19              5457.98                     641.75   \n",
       "std             0.40              7809.44                     932.79   \n",
       "min             0.00                20.00                       1.00   \n",
       "25%             0.00               710.00                       6.00   \n",
       "50%             0.00              2320.00                      10.00   \n",
       "75%             0.00              6890.00                    2013.00   \n",
       "max             1.00             75860.00                    2013.00   \n",
       "\n",
       "       CompetitionOpenSinceYear    Promo2  \n",
       "count                 842206.00 842206.00  \n",
       "mean                    2010.14      0.50  \n",
       "std                        4.41      0.50  \n",
       "min                     1961.00      0.00  \n",
       "25%                     2008.00      0.00  \n",
       "50%                     2012.00      0.00  \n",
       "75%                     2013.00      1.00  \n",
       "max                     2015.00      1.00  "
      ]
     },
     "execution_count": 28,
     "metadata": {},
     "output_type": "execute_result"
    }
   ],
   "source": [
    "# Resumo Estatístico Final\n",
    "df2.select_dtypes(include=['int64', 'float64']).describe()"
   ]
  },
  {
   "cell_type": "markdown",
   "metadata": {},
   "source": [
    "Portanto, com os dados consolidados, tratados e limpos, podemos ir para a próxima etapa."
   ]
  },
  {
   "cell_type": "markdown",
   "metadata": {},
   "source": [
    "## 3.0 Engenharia de Atributos"
   ]
  },
  {
   "cell_type": "markdown",
   "metadata": {},
   "source": [
    "O objetivo dessa etapa é conseguir ver a possibilidade de informações que estão 'escondidas' nos dados. Podemos obervar que o nosso dataset é bem limitado, sendo assim, vamos inicialmente construir nossa variável que é as vendas dos próximos 6 dias."
   ]
  },
  {
   "cell_type": "code",
   "execution_count": 29,
   "metadata": {},
   "outputs": [
    {
     "name": "stdout",
     "output_type": "stream",
     "text": [
      "(842206, 15)\n"
     ]
    }
   ],
   "source": [
    "# Cópia dos Dados\n",
    "df3 = df2.copy()\n",
    "\n",
    "# Ordenamento dos Dados\n",
    "df3_sort = df3.sort_values(by=['Store', 'Date'], ascending=True).reset_index(drop=True).copy()\n",
    "\n",
    "# Amostra dos Dados\n",
    "df3_sort.head()\n",
    "\n",
    "print(df3_sort.shape)"
   ]
  },
  {
   "cell_type": "markdown",
   "metadata": {},
   "source": [
    "Observe que a variável stateHolyday é uma variável categórica, vamos criar variáveis dummies de modo trazer essas variáveis."
   ]
  },
  {
   "cell_type": "code",
   "execution_count": 30,
   "metadata": {},
   "outputs": [
    {
     "name": "stdout",
     "output_type": "stream",
     "text": [
      "(842206, 15)\n"
     ]
    },
    {
     "data": {
      "text/html": [
       "<div>\n",
       "<style scoped>\n",
       "    .dataframe tbody tr th:only-of-type {\n",
       "        vertical-align: middle;\n",
       "    }\n",
       "\n",
       "    .dataframe tbody tr th {\n",
       "        vertical-align: top;\n",
       "    }\n",
       "\n",
       "    .dataframe thead th {\n",
       "        text-align: right;\n",
       "    }\n",
       "</style>\n",
       "<table border=\"1\" class=\"dataframe\">\n",
       "  <thead>\n",
       "    <tr style=\"text-align: right;\">\n",
       "      <th></th>\n",
       "      <th>Store</th>\n",
       "      <th>DayOfWeek</th>\n",
       "      <th>Date</th>\n",
       "      <th>Sales</th>\n",
       "      <th>Customers</th>\n",
       "      <th>Open</th>\n",
       "      <th>Promo</th>\n",
       "      <th>SchoolHoliday</th>\n",
       "      <th>StoreType</th>\n",
       "      <th>Assortment</th>\n",
       "      <th>CompetitionDistance</th>\n",
       "      <th>CompetitionOpenSinceMonth</th>\n",
       "      <th>CompetitionOpenSinceYear</th>\n",
       "      <th>Promo2</th>\n",
       "      <th>PublicHoliday</th>\n",
       "    </tr>\n",
       "  </thead>\n",
       "  <tbody>\n",
       "    <tr>\n",
       "      <th>0</th>\n",
       "      <td>1</td>\n",
       "      <td>3</td>\n",
       "      <td>2013-01-02</td>\n",
       "      <td>5530</td>\n",
       "      <td>668</td>\n",
       "      <td>1</td>\n",
       "      <td>0</td>\n",
       "      <td>1</td>\n",
       "      <td>c</td>\n",
       "      <td>a</td>\n",
       "      <td>1270.00</td>\n",
       "      <td>9.00</td>\n",
       "      <td>2008.00</td>\n",
       "      <td>0</td>\n",
       "      <td>0</td>\n",
       "    </tr>\n",
       "    <tr>\n",
       "      <th>1</th>\n",
       "      <td>1</td>\n",
       "      <td>4</td>\n",
       "      <td>2013-01-03</td>\n",
       "      <td>4327</td>\n",
       "      <td>578</td>\n",
       "      <td>1</td>\n",
       "      <td>0</td>\n",
       "      <td>1</td>\n",
       "      <td>c</td>\n",
       "      <td>a</td>\n",
       "      <td>1270.00</td>\n",
       "      <td>9.00</td>\n",
       "      <td>2008.00</td>\n",
       "      <td>0</td>\n",
       "      <td>0</td>\n",
       "    </tr>\n",
       "    <tr>\n",
       "      <th>2</th>\n",
       "      <td>1</td>\n",
       "      <td>5</td>\n",
       "      <td>2013-01-04</td>\n",
       "      <td>4486</td>\n",
       "      <td>619</td>\n",
       "      <td>1</td>\n",
       "      <td>0</td>\n",
       "      <td>1</td>\n",
       "      <td>c</td>\n",
       "      <td>a</td>\n",
       "      <td>1270.00</td>\n",
       "      <td>9.00</td>\n",
       "      <td>2008.00</td>\n",
       "      <td>0</td>\n",
       "      <td>0</td>\n",
       "    </tr>\n",
       "    <tr>\n",
       "      <th>3</th>\n",
       "      <td>1</td>\n",
       "      <td>6</td>\n",
       "      <td>2013-01-05</td>\n",
       "      <td>4997</td>\n",
       "      <td>635</td>\n",
       "      <td>1</td>\n",
       "      <td>0</td>\n",
       "      <td>1</td>\n",
       "      <td>c</td>\n",
       "      <td>a</td>\n",
       "      <td>1270.00</td>\n",
       "      <td>9.00</td>\n",
       "      <td>2008.00</td>\n",
       "      <td>0</td>\n",
       "      <td>0</td>\n",
       "    </tr>\n",
       "    <tr>\n",
       "      <th>4</th>\n",
       "      <td>1</td>\n",
       "      <td>1</td>\n",
       "      <td>2013-01-07</td>\n",
       "      <td>7176</td>\n",
       "      <td>785</td>\n",
       "      <td>1</td>\n",
       "      <td>1</td>\n",
       "      <td>1</td>\n",
       "      <td>c</td>\n",
       "      <td>a</td>\n",
       "      <td>1270.00</td>\n",
       "      <td>9.00</td>\n",
       "      <td>2008.00</td>\n",
       "      <td>0</td>\n",
       "      <td>0</td>\n",
       "    </tr>\n",
       "  </tbody>\n",
       "</table>\n",
       "</div>"
      ],
      "text/plain": [
       "   Store  DayOfWeek       Date  Sales  Customers  Open  Promo  SchoolHoliday  \\\n",
       "0      1          3 2013-01-02   5530        668     1      0              1   \n",
       "1      1          4 2013-01-03   4327        578     1      0              1   \n",
       "2      1          5 2013-01-04   4486        619     1      0              1   \n",
       "3      1          6 2013-01-05   4997        635     1      0              1   \n",
       "4      1          1 2013-01-07   7176        785     1      1              1   \n",
       "\n",
       "  StoreType Assortment  CompetitionDistance  CompetitionOpenSinceMonth  \\\n",
       "0         c          a              1270.00                       9.00   \n",
       "1         c          a              1270.00                       9.00   \n",
       "2         c          a              1270.00                       9.00   \n",
       "3         c          a              1270.00                       9.00   \n",
       "4         c          a              1270.00                       9.00   \n",
       "\n",
       "   CompetitionOpenSinceYear  Promo2  PublicHoliday  \n",
       "0                   2008.00       0              0  \n",
       "1                   2008.00       0              0  \n",
       "2                   2008.00       0              0  \n",
       "3                   2008.00       0              0  \n",
       "4                   2008.00       0              0  "
      ]
     },
     "execution_count": 30,
     "metadata": {},
     "output_type": "execute_result"
    }
   ],
   "source": [
    "# Gerando as variáveis dummies para os feriados\n",
    "df3_sort = (pd.get_dummies(data=df3_sort, columns=['StateHoliday'], dtype=np.int64)\n",
    "              .drop(columns=['StateHoliday_0', 'StateHoliday_b', 'StateHoliday_c'], axis=1)\n",
    "              .rename(columns={'StateHoliday_a':'PublicHoliday', 'StateHoliday_b':'EasterHoliday', 'StateHoliday_c':'Christmas_Holiday'}))\n",
    "\n",
    "print(df3_sort.shape)\n",
    "\n",
    "# Amostra dos resultados\n",
    "df3_sort.head()"
   ]
  },
  {
   "cell_type": "code",
   "execution_count": 31,
   "metadata": {},
   "outputs": [
    {
     "name": "stdout",
     "output_type": "stream",
     "text": [
      "Dimensão dos Dados : (842206, 24)\n"
     ]
    }
   ],
   "source": [
    "# Vendas do último dia\n",
    "df3_sort['SalesLastDay'] = df3_sort.groupby('Store')['Sales'].shift(1)\n",
    "\n",
    "# Média dos últimos 7 dias\n",
    "df3_sort['MeanSalesLastSevenDays'] = df3_sort.groupby('Store')['Sales'].shift(1).rolling(7).mean()\n",
    "\n",
    "# Total de vendas dos últimos 7 dias\n",
    "df3_sort['TotalSalesLastSevenDays'] = df3_sort.groupby('Store')['Sales'].shift(1).rolling(7).sum()\n",
    "\n",
    "# Total de Promoções aplicadas nos últimos 7 dias\n",
    "df3_sort['TotalPromoLastSevenDays'] = df3_sort.groupby('Store')['Promo'].shift(1).rolling(7).sum()\n",
    "\n",
    "# Total de Feriados Públicos nos últimos 7 dias\n",
    "df3_sort['TotalPublicHolidaysLastSevenDays'] = df3_sort.groupby('Store')['PublicHoliday'].shift(1).rolling(7).sum()\n",
    "\n",
    "# Total de promoções 2 ativadas nos últimos 7 dias\n",
    "df3_sort['TotalPromo2LastSevenDays'] = df3_sort.groupby('Store')['Promo2'].shift(1).rolling(7).sum()\n",
    "\n",
    "# Total de feriados escolares no últimos 7 dias\n",
    "df3_sort['TotalSchoolHolidayLastSevenDays'] = df3_sort.groupby('Store')['SchoolHoliday'].shift(1).rolling(7).sum()\n",
    "\n",
    "# Anos de Competição\n",
    "df3_sort['YearsCompetition'] = df3_sort['Date'].max().year - df3_sort['CompetitionOpenSinceYear']\n",
    "\n",
    "# Construção da nossa variável alvo\n",
    "df3_sort['TotalSalesNextSixDays'] = (\n",
    "    pd.concat([\n",
    "        df3_sort.groupby('Store')['Sales'].shift(-i)\n",
    "        for i in range(1, 7)\n",
    "    ], axis=1)\n",
    "    .sum(axis=1, min_count=6)\n",
    ")\n",
    "\n",
    "print('Dimensão dos Dados : {}'.format(df3_sort.shape))"
   ]
  },
  {
   "cell_type": "markdown",
   "metadata": {},
   "source": [
    "Aqui vamos selecionar apenas as variáveis que façam sentido para o nosso problema. "
   ]
  },
  {
   "cell_type": "code",
   "execution_count": 32,
   "metadata": {},
   "outputs": [],
   "source": [
    "df3_sort = df3_sort[['Store', 'StoreType', 'Assortment', 'CompetitionDistance', 'YearsCompetition', 'Sales', 'Customers', 'Promo','Promo2', 'PublicHoliday', 'SalesLastDay',\n",
    "                     'MeanSalesLastSevenDays', 'TotalSalesLastSevenDays', 'TotalPromoLastSevenDays', 'TotalPromo2LastSevenDays', 'TotalSchoolHolidayLastSevenDays', 'TotalPublicHolidaysLastSevenDays',\n",
    "                     'TotalSalesNextSixDays']]\n",
    "\n",
    "# Renomeando colunas\n",
    "df3_sort = df3_sort.rename(columns={'Sales':'SalesDay', 'Customers': 'CustomersDay', 'PromoDay':'Promo2Day', 'PublicHoliday':'PublicHolidayDay'})"
   ]
  },
  {
   "cell_type": "markdown",
   "metadata": {},
   "source": [
    "Observe que a nossa variável alvo nossa é a TotalSalesNextSixDays. Sendo assim, nossa variável alvo não pode ser nula. Além disso, de modo que tenhamos o máximo de informação consolidada, vamos eliminar a quantidade as variáveis nulas em relação a soma móveis, pois pelo fato de ser nulo, quer dizer que não há informações disponíveis, logo, não está trazendo o conteúdo que precisamos."
   ]
  },
  {
   "cell_type": "code",
   "execution_count": 33,
   "metadata": {},
   "outputs": [
    {
     "name": "stdout",
     "output_type": "stream",
     "text": [
      "Validação dos Dados: Dataset Ordenado\n",
      "Quantidade de Linhas: 842206, Quantidade de Colunas: 18.\n",
      "Validação dos Dados: Dataset Ordenado e Limpo\n",
      "Quantidade de Linhas: 827750, Quantidade de Colunas: 18.\n"
     ]
    },
    {
     "data": {
      "text/html": [
       "<div>\n",
       "<style scoped>\n",
       "    .dataframe tbody tr th:only-of-type {\n",
       "        vertical-align: middle;\n",
       "    }\n",
       "\n",
       "    .dataframe tbody tr th {\n",
       "        vertical-align: top;\n",
       "    }\n",
       "\n",
       "    .dataframe thead th {\n",
       "        text-align: right;\n",
       "    }\n",
       "</style>\n",
       "<table border=\"1\" class=\"dataframe\">\n",
       "  <thead>\n",
       "    <tr style=\"text-align: right;\">\n",
       "      <th></th>\n",
       "      <th>Store</th>\n",
       "      <th>StoreType</th>\n",
       "      <th>Assortment</th>\n",
       "      <th>CompetitionDistance</th>\n",
       "      <th>YearsCompetition</th>\n",
       "      <th>SalesDay</th>\n",
       "      <th>CustomersDay</th>\n",
       "      <th>Promo</th>\n",
       "      <th>Promo2</th>\n",
       "      <th>PublicHolidayDay</th>\n",
       "      <th>SalesLastDay</th>\n",
       "      <th>MeanSalesLastSevenDays</th>\n",
       "      <th>TotalSalesLastSevenDays</th>\n",
       "      <th>TotalPromoLastSevenDays</th>\n",
       "      <th>TotalPromo2LastSevenDays</th>\n",
       "      <th>TotalSchoolHolidayLastSevenDays</th>\n",
       "      <th>TotalPublicHolidaysLastSevenDays</th>\n",
       "      <th>TotalSalesNextSixDays</th>\n",
       "    </tr>\n",
       "  </thead>\n",
       "  <tbody>\n",
       "    <tr>\n",
       "      <th>7</th>\n",
       "      <td>1</td>\n",
       "      <td>c</td>\n",
       "      <td>a</td>\n",
       "      <td>1270.00</td>\n",
       "      <td>7.00</td>\n",
       "      <td>4892</td>\n",
       "      <td>615</td>\n",
       "      <td>1</td>\n",
       "      <td>0</td>\n",
       "      <td>0</td>\n",
       "      <td>5471.00</td>\n",
       "      <td>5366.71</td>\n",
       "      <td>37567.00</td>\n",
       "      <td>3.00</td>\n",
       "      <td>0.00</td>\n",
       "      <td>7.00</td>\n",
       "      <td>0.00</td>\n",
       "      <td>26502.00</td>\n",
       "    </tr>\n",
       "    <tr>\n",
       "      <th>8</th>\n",
       "      <td>1</td>\n",
       "      <td>c</td>\n",
       "      <td>a</td>\n",
       "      <td>1270.00</td>\n",
       "      <td>7.00</td>\n",
       "      <td>4881</td>\n",
       "      <td>592</td>\n",
       "      <td>1</td>\n",
       "      <td>0</td>\n",
       "      <td>0</td>\n",
       "      <td>4892.00</td>\n",
       "      <td>5275.57</td>\n",
       "      <td>36929.00</td>\n",
       "      <td>4.00</td>\n",
       "      <td>0.00</td>\n",
       "      <td>7.00</td>\n",
       "      <td>0.00</td>\n",
       "      <td>25748.00</td>\n",
       "    </tr>\n",
       "    <tr>\n",
       "      <th>9</th>\n",
       "      <td>1</td>\n",
       "      <td>c</td>\n",
       "      <td>a</td>\n",
       "      <td>1270.00</td>\n",
       "      <td>7.00</td>\n",
       "      <td>4952</td>\n",
       "      <td>646</td>\n",
       "      <td>0</td>\n",
       "      <td>0</td>\n",
       "      <td>0</td>\n",
       "      <td>4881.00</td>\n",
       "      <td>5354.71</td>\n",
       "      <td>37483.00</td>\n",
       "      <td>5.00</td>\n",
       "      <td>0.00</td>\n",
       "      <td>7.00</td>\n",
       "      <td>0.00</td>\n",
       "      <td>25978.00</td>\n",
       "    </tr>\n",
       "    <tr>\n",
       "      <th>10</th>\n",
       "      <td>1</td>\n",
       "      <td>c</td>\n",
       "      <td>a</td>\n",
       "      <td>1270.00</td>\n",
       "      <td>7.00</td>\n",
       "      <td>4717</td>\n",
       "      <td>616</td>\n",
       "      <td>0</td>\n",
       "      <td>0</td>\n",
       "      <td>0</td>\n",
       "      <td>4952.00</td>\n",
       "      <td>5421.29</td>\n",
       "      <td>37949.00</td>\n",
       "      <td>5.00</td>\n",
       "      <td>0.00</td>\n",
       "      <td>6.00</td>\n",
       "      <td>0.00</td>\n",
       "      <td>26655.00</td>\n",
       "    </tr>\n",
       "    <tr>\n",
       "      <th>11</th>\n",
       "      <td>1</td>\n",
       "      <td>c</td>\n",
       "      <td>a</td>\n",
       "      <td>1270.00</td>\n",
       "      <td>7.00</td>\n",
       "      <td>3900</td>\n",
       "      <td>512</td>\n",
       "      <td>0</td>\n",
       "      <td>0</td>\n",
       "      <td>0</td>\n",
       "      <td>4717.00</td>\n",
       "      <td>5381.29</td>\n",
       "      <td>37669.00</td>\n",
       "      <td>5.00</td>\n",
       "      <td>0.00</td>\n",
       "      <td>5.00</td>\n",
       "      <td>0.00</td>\n",
       "      <td>28475.00</td>\n",
       "    </tr>\n",
       "  </tbody>\n",
       "</table>\n",
       "</div>"
      ],
      "text/plain": [
       "    Store StoreType Assortment  CompetitionDistance  YearsCompetition  \\\n",
       "7       1         c          a              1270.00              7.00   \n",
       "8       1         c          a              1270.00              7.00   \n",
       "9       1         c          a              1270.00              7.00   \n",
       "10      1         c          a              1270.00              7.00   \n",
       "11      1         c          a              1270.00              7.00   \n",
       "\n",
       "    SalesDay  CustomersDay  Promo  Promo2  PublicHolidayDay  SalesLastDay  \\\n",
       "7       4892           615      1       0                 0       5471.00   \n",
       "8       4881           592      1       0                 0       4892.00   \n",
       "9       4952           646      0       0                 0       4881.00   \n",
       "10      4717           616      0       0                 0       4952.00   \n",
       "11      3900           512      0       0                 0       4717.00   \n",
       "\n",
       "    MeanSalesLastSevenDays  TotalSalesLastSevenDays  TotalPromoLastSevenDays  \\\n",
       "7                  5366.71                 37567.00                     3.00   \n",
       "8                  5275.57                 36929.00                     4.00   \n",
       "9                  5354.71                 37483.00                     5.00   \n",
       "10                 5421.29                 37949.00                     5.00   \n",
       "11                 5381.29                 37669.00                     5.00   \n",
       "\n",
       "    TotalPromo2LastSevenDays  TotalSchoolHolidayLastSevenDays  \\\n",
       "7                       0.00                             7.00   \n",
       "8                       0.00                             7.00   \n",
       "9                       0.00                             7.00   \n",
       "10                      0.00                             6.00   \n",
       "11                      0.00                             5.00   \n",
       "\n",
       "    TotalPublicHolidaysLastSevenDays  TotalSalesNextSixDays  \n",
       "7                               0.00               26502.00  \n",
       "8                               0.00               25748.00  \n",
       "9                               0.00               25978.00  \n",
       "10                              0.00               26655.00  \n",
       "11                              0.00               28475.00  "
      ]
     },
     "execution_count": 33,
     "metadata": {},
     "output_type": "execute_result"
    }
   ],
   "source": [
    "# Validação dos dados antes da eliminação\n",
    "validacao_dados(df3_sort, 'Dataset Ordenado')\n",
    "\n",
    "# eliminando os dados desnecessários\n",
    "df3_sort_clean = df3_sort.dropna()\n",
    "\n",
    "# Validacao dos Dados\n",
    "validacao_dados(df3_sort_clean, 'Dataset Ordenado e Limpo')\n",
    "\n",
    "df3_sort_clean.head()"
   ]
  },
  {
   "cell_type": "markdown",
   "metadata": {},
   "source": [
    "Como os dados devidamente tratados e limpos e com as base consolidadas, vamos iniciar a fase de separação dos dados em treino, teste e validação e pré-processamento dos dados."
   ]
  },
  {
   "cell_type": "markdown",
   "metadata": {},
   "source": [
    "## 4.0 Separação dos Dados em Treino, Validação e Teste"
   ]
  },
  {
   "cell_type": "code",
   "execution_count": 34,
   "metadata": {},
   "outputs": [
    {
     "name": "stdout",
     "output_type": "stream",
     "text": [
      "Validação dos Dados: df4\n",
      "Quantidade de Linhas: 827750, Quantidade de Colunas: 18.\n"
     ]
    }
   ],
   "source": [
    "# Cópia dos dados\n",
    "df4 = df3_sort_clean.copy()\n",
    "\n",
    "validacao_dados(df4, 'df4')"
   ]
  },
  {
   "cell_type": "code",
   "execution_count": 35,
   "metadata": {},
   "outputs": [
    {
     "name": "stdout",
     "output_type": "stream",
     "text": [
      "\n",
      "Dados de Treino\n",
      "Validação dos Dados: X_treino\n",
      "Quantidade de Linhas: 579425, Quantidade de Colunas: 16.\n",
      "Validação dos Dados: y_treino\n",
      "Quantidade de Linhas: 579425, Quantidade de Colunas: 1.\n",
      "\n",
      "Dados de Validação\n",
      "Validação dos Dados: X Validacao\n",
      "Quantidade de Linhas: 124162, Quantidade de Colunas: 16.\n",
      "Validação dos Dados: y Validacao\n",
      "Quantidade de Linhas: 124162, Quantidade de Colunas: 1.\n",
      "\n",
      "Dados de Teste\n",
      "Validação dos Dados: X Teste\n",
      "Quantidade de Linhas: 124163, Quantidade de Colunas: 16.\n",
      "Validação dos Dados: y Teste\n",
      "Quantidade de Linhas: 124163, Quantidade de Colunas: 1.\n"
     ]
    }
   ],
   "source": [
    "# Variáveis Independentes\n",
    "X = df4.drop(columns=['TotalSalesNextSixDays', 'Store'])\n",
    "y = df4[['TotalSalesNextSixDays']]\n",
    "\n",
    "# Obtendo os dados de treino\n",
    "X_treino, X_transacional, y_treino, y_transacional = model_selection.train_test_split(X, y, train_size=0.7)\n",
    "\n",
    "print('\\nDados de Treino')\n",
    "validacao_dados(X_treino, 'X_treino')\n",
    "validacao_dados(y_treino, 'y_treino')\n",
    "\n",
    "# Obtendo os dados de validação e teste\n",
    "X_validacao, X_teste, y_validacao, y_teste = model_selection.train_test_split(X_transacional, y_transacional, train_size=0.5)\n",
    "\n",
    "print('\\nDados de Validação')\n",
    "validacao_dados(X_validacao, 'X Validacao')\n",
    "validacao_dados(y_validacao, 'y Validacao')\n",
    "\n",
    "print('\\nDados de Teste')\n",
    "validacao_dados(X_teste, 'X Teste')\n",
    "validacao_dados(y_teste, 'y Teste')"
   ]
  },
  {
   "cell_type": "markdown",
   "metadata": {},
   "source": [
    "## 5.0 Pré-Processamento dos Dados"
   ]
  },
  {
   "cell_type": "markdown",
   "metadata": {},
   "source": [
    "De modo a termos um processo mais integro e menos passível de erro, vamos utilizar o método pipeline."
   ]
  },
  {
   "cell_type": "code",
   "execution_count": 36,
   "metadata": {},
   "outputs": [],
   "source": [
    "# Colunas Numéricas\n",
    "numeric_columns = X_treino.select_dtypes(include=['float64', 'int64']).columns.tolist()\n",
    "\n",
    "# Colunas Categóricas\n",
    "dummies_columns = ['StoreType']\n",
    "ordinal_columns = ['Assortment']\n",
    "\n",
    "# Construção do Pipeline para transformar variáveis numéricas\n",
    "num_transformer = pipeline.Pipeline( [ ('scaler', preprocessing.StandardScaler() ) ] )\n",
    "\n",
    "# Construção do Pipeline para criar as variáveis dummies\n",
    "dummies_transformer = pipeline.Pipeline( [ ('one-hot', preprocessing.OneHotEncoder(handle_unknown='ignore', dtype=np.int64) ) ] )\n",
    "\n",
    "# Construção do Pipeline para criar o encoding ordenado\n",
    "ordinal_transformer = pipeline.Pipeline( [ ( 'ordinal', preprocessing.OrdinalEncoder( categories=[['a', 'b', 'c']], handle_unknown='use_encoded_value', unknown_value=-1) ) ] )"
   ]
  },
  {
   "cell_type": "markdown",
   "metadata": {},
   "source": [
    "Vamos construir nosso método para transformar as colunas"
   ]
  },
  {
   "cell_type": "code",
   "execution_count": 37,
   "metadata": {},
   "outputs": [],
   "source": [
    "# Construção do pré-processamento\n",
    "pre_processamento = compose.ColumnTransformer(transformers=[('num_columns', num_transformer, numeric_columns),\n",
    "                                                            ('dummies_columns', dummies_transformer, dummies_columns),\n",
    "                                                            ('ordinal_columns', ordinal_transformer , ordinal_columns)])"
   ]
  },
  {
   "cell_type": "code",
   "execution_count": 38,
   "metadata": {},
   "outputs": [],
   "source": [
    "# Validação do pré-processamento\n",
    "validacao_pre_processamento = pre_processamento.fit(X_treino)"
   ]
  },
  {
   "cell_type": "markdown",
   "metadata": {},
   "source": [
    "Vamos para a fase de modelagem"
   ]
  },
  {
   "cell_type": "markdown",
   "metadata": {},
   "source": [
    "## 6.0 Treinamento do Modelo"
   ]
  },
  {
   "cell_type": "markdown",
   "metadata": {},
   "source": [
    "Durante o todo processo, percebemos a presença de outliers, o que já era esperado, pois claramente existiram lojas que vão vender mais do que outras dada o seu tamanho e localidade. Sendo assim, utilizar modelos menos complexos, como um regressão simples, por exemplo, nos mostrará um performance bem ruim. Entretanto, eles servem de referência para saber se estamos melhorando ou não. Além disso, também não optamos por fazer um processo de seleção de colunas. Nesse momento, vamos implementar todas as variáveis e, a partir disso, verificar a performance dos nossos modelos."
   ]
  },
  {
   "cell_type": "markdown",
   "metadata": {},
   "source": [
    "### 6.1 Regressão Simples"
   ]
  },
  {
   "cell_type": "code",
   "execution_count": 51,
   "metadata": {},
   "outputs": [
    {
     "name": "stdout",
     "output_type": "stream",
     "text": [
      "================ Capacidade de Aprendizado ================ \n",
      "MAE: 4856.85.\n",
      "MAPE: 11.95\n",
      "RMSE: 6680.77\n",
      "\n",
      "================ Capacidade de Generalização ================\n",
      "MAE: 4850.70.\n",
      "MAPE: 11.91\n",
      "RMSE: 6668.74\n"
     ]
    }
   ],
   "source": [
    "# Instanciando e criando pipeline para o modelo de regressão simples\n",
    "pipe_regressao = pipeline.Pipeline(steps=[('Pré - Processamento', pre_processamento),\n",
    "                                          ('Regressão Simples', linear_model.LinearRegression())])\n",
    "\n",
    "# Treinamento do modelo\n",
    "pipe_regressao.fit(X_treino, y_treino)\n",
    "\n",
    "# Predição do Modelo - Aprendizado\n",
    "y_regressao_aprendizado = pipe_regressao.predict(X_treino)\n",
    "\n",
    "# Métricas de Validação - capacidade de Aprendizado\n",
    "print('================ Capacidade de Aprendizado ================ ')\n",
    "mae_aprendizado_regressao, mape_aprendizado_regressao, rmse_aprendizado_regressao = metricas_validacao(y_treino, y_regressao_aprendizado) \n",
    "\n",
    "# Predição do Modelo - Generalização\n",
    "y_regressao_generalizacao = pipe_regressao.predict(X_validacao)\n",
    "\n",
    "print('\\n================ Capacidade de Generalização ================')\n",
    "mae_generalizacao_regressao, mape_generalizacao_regressao, rmse_generalizacao_regressao = metricas_validacao(y_validacao, y_regressao_generalizacao) "
   ]
  },
  {
   "cell_type": "markdown",
   "metadata": {},
   "source": [
    "### 6.2 Regressão Simples - Penalidade Ridge"
   ]
  },
  {
   "cell_type": "markdown",
   "metadata": {},
   "source": [
    "Quando analisamos a aplicação da regressão linear no ciclo2 para o ciclo3, podemos observar uma melhora muito significativa, saindo de um MAE de 20% para um MAE, agora de 11%. Vamos ver se, mudando a penalidade sobre o erro, na regressão, ocorre uma melhoria."
   ]
  },
  {
   "cell_type": "code",
   "execution_count": 52,
   "metadata": {},
   "outputs": [
    {
     "name": "stdout",
     "output_type": "stream",
     "text": [
      "================ Capacidade de Aprendizado ================ \n",
      "MAE: 4856.85.\n",
      "MAPE: 11.95\n",
      "RMSE: 6680.77\n",
      "\n",
      "================ Capacidade de Generalização ================\n",
      "MAE: 4850.70.\n",
      "MAPE: 11.91\n",
      "RMSE: 6668.74\n"
     ]
    }
   ],
   "source": [
    "# Instanciando e criando pipeline para o modelo de ridge\n",
    "pipe_ridge = pipeline.Pipeline(steps=[('Pré - Processamento', pre_processamento),\n",
    "                                      ('Ridge', linear_model.Ridge())])\n",
    "\n",
    "# Treinamento do modelo\n",
    "pipe_ridge.fit(X_treino, y_treino)\n",
    "\n",
    "# Predição do Modelo - Aprendizado\n",
    "y_ridge_aprendizado = pipe_ridge.predict(X_treino)\n",
    "\n",
    "# Métricas de Validação - capacidade de Aprendizado\n",
    "print('================ Capacidade de Aprendizado ================ ')\n",
    "mae_aprendizado_ridge, mape_aprendizado_ridge, rmse_aprendizado_ridge = metricas_validacao(y_treino, y_ridge_aprendizado) \n",
    "\n",
    "# Predição do Modelo - Generalização\n",
    "y_ridge_generalizacao = pipe_ridge.predict(X_validacao)\n",
    "\n",
    "print('\\n================ Capacidade de Generalização ================')\n",
    "mae_generalizacao_ridge, mape_generalizacao_ridge, rmse_generalizacao_ridge = metricas_validacao(y_validacao, y_ridge_generalizacao) "
   ]
  },
  {
   "cell_type": "markdown",
   "metadata": {},
   "source": [
    "### 6.3 Regressão Simples - Penalidade Lasso"
   ]
  },
  {
   "cell_type": "code",
   "execution_count": 53,
   "metadata": {},
   "outputs": [
    {
     "name": "stdout",
     "output_type": "stream",
     "text": [
      "================ Capacidade de Aprendizado ================ \n",
      "MAE: 4856.67.\n",
      "MAPE: 11.95\n",
      "RMSE: 6680.78\n",
      "\n",
      "================ Capacidade de Generalização ================\n",
      "MAE: 4850.47.\n",
      "MAPE: 11.91\n",
      "RMSE: 6668.69\n"
     ]
    }
   ],
   "source": [
    "# Instanciando e criando pipeline para o modelo de lasso\n",
    "pipe_lasso = pipeline.Pipeline(steps=[('Pré - Processamento', pre_processamento),\n",
    "                                      ('Lasso', linear_model.Lasso())])\n",
    "\n",
    "# Treinamento do modelo\n",
    "pipe_lasso.fit(X_treino, y_treino)\n",
    "\n",
    "# Predição do Modelo - Aprendizado\n",
    "y_lasso_aprendizado = pipe_lasso.predict(X_treino)\n",
    "\n",
    "# Métricas de Validação - capacidade de Aprendizado\n",
    "print('================ Capacidade de Aprendizado ================ ')\n",
    "mae_aprendizado_lasso, mape_aprendizado_lasso, rmse_aprendizado_lasso = metricas_validacao(y_treino, y_lasso_aprendizado) \n",
    "\n",
    "# Predição do Modelo - Generalização\n",
    "y_lasso_generalizacao = pipe_lasso.predict(X_validacao)\n",
    "\n",
    "print('\\n================ Capacidade de Generalização ================')\n",
    "mae_generalizacao_lasso, mape_generalizacao_lasso, rmse_generalizacao_lasso = metricas_validacao(y_validacao, y_lasso_generalizacao) "
   ]
  },
  {
   "cell_type": "markdown",
   "metadata": {},
   "source": [
    "**Observação:** Podemos observar que aplicando a regressão linear com a mudança de penalidade sobre os erros, não obtive, nem melhorias e nem pioras significativas, sendo assim, vamos evoluir para modelos mais complexos. Sabendo da presença de outliers, vamos iniciar nosso aprofundamento indo para modelos de árvore."
   ]
  },
  {
   "cell_type": "markdown",
   "metadata": {},
   "source": [
    "### 6.4 Tree Regressor"
   ]
  },
  {
   "cell_type": "code",
   "execution_count": 54,
   "metadata": {},
   "outputs": [
    {
     "name": "stdout",
     "output_type": "stream",
     "text": [
      "================ Capacidade de Aprendizado ================ \n",
      "MAE: 5704.15.\n",
      "MAPE: 14.22\n",
      "RMSE: 7668.71\n",
      "\n",
      "================ Capacidade de Generalização ================\n",
      "MAE: 5681.17.\n",
      "MAPE: 14.14\n",
      "RMSE: 7646.39\n"
     ]
    }
   ],
   "source": [
    "# Instanciando e criando pipeline para o modelo de tree\n",
    "pipe_tree = pipeline.Pipeline(steps=[('Pré - Processamento', pre_processamento),\n",
    "                                      ('Tree', tree.DecisionTreeRegressor(max_depth=5))])\n",
    "\n",
    "# Treinamento do modelo\n",
    "pipe_tree.fit(X_treino, y_treino)\n",
    "\n",
    "# Predição do Modelo - Aprendizado\n",
    "y_tree_aprendizado = pipe_tree.predict(X_treino)\n",
    "\n",
    "# Métricas de Validação - capacidade de Aprendizado\n",
    "print('================ Capacidade de Aprendizado ================ ')\n",
    "mae_aprendizado_tree, mape_aprendizado_tree, rmse_aprendizado_tree = metricas_validacao(y_treino, y_tree_aprendizado) \n",
    "\n",
    "# Predição do Modelo - Generalização\n",
    "y_tree_generalizacao = pipe_tree.predict(X_validacao)\n",
    "\n",
    "print('\\n================ Capacidade de Generalização ================')\n",
    "mae_generalizacao_tree, mape_generalizacao_tree, rmse_generalizacao_tree = metricas_validacao(y_validacao, y_tree_generalizacao)"
   ]
  },
  {
   "cell_type": "markdown",
   "metadata": {},
   "source": [
    "### 6.5 ExtraTree"
   ]
  },
  {
   "cell_type": "code",
   "execution_count": 55,
   "metadata": {},
   "outputs": [
    {
     "name": "stdout",
     "output_type": "stream",
     "text": [
      "================ Capacidade de Aprendizado ================ \n",
      "MAE: 6672.15.\n",
      "MAPE: 16.66\n",
      "RMSE: 8779.45\n",
      "\n",
      "================ Capacidade de Generalização ================\n",
      "MAE: 6647.34.\n",
      "MAPE: 16.58\n",
      "RMSE: 8753.29\n"
     ]
    }
   ],
   "source": [
    "# Instanciando e criando pipeline para o modelo de extree\n",
    "pipe_extree = pipeline.Pipeline(steps=[('Pré - Processamento', pre_processamento),\n",
    "                                      ('ExtraTree', tree.ExtraTreeRegressor(max_depth=5))])\n",
    "\n",
    "# Treinamento do modelo\n",
    "pipe_extree.fit(X_treino, y_treino)\n",
    "\n",
    "# Predição do Modelo - Aprendizado\n",
    "y_extree_aprendizado = pipe_extree.predict(X_treino)\n",
    "\n",
    "# Métricas de Validação - capacidade de Aprendizado\n",
    "print('================ Capacidade de Aprendizado ================ ')\n",
    "mae_aprendizado_extree, mape_aprendizado_extree, rmse_aprendizado_extree = metricas_validacao(y_treino, y_extree_aprendizado) \n",
    "\n",
    "# Predição do Modelo - Generalização\n",
    "y_extree_generalizacao = pipe_extree.predict(X_validacao)\n",
    "\n",
    "print('\\n================ Capacidade de Generalização ================')\n",
    "mae_generalizacao_extree, mape_generalizacao_extree, rmse_generalizacao_extree = metricas_validacao(y_validacao, y_extree_generalizacao) "
   ]
  },
  {
   "cell_type": "markdown",
   "metadata": {},
   "source": [
    "Podemos observar que as árvores obtiveram uma performance um pouco pior. Sendo assim, sabendo que a regressão teve uma performance até considerável, vamos utilizar o método SVM que suportam e lidam bem com outliers"
   ]
  },
  {
   "cell_type": "markdown",
   "metadata": {},
   "source": [
    "### 6.6 LinearSVR"
   ]
  },
  {
   "cell_type": "code",
   "execution_count": 56,
   "metadata": {},
   "outputs": [
    {
     "name": "stdout",
     "output_type": "stream",
     "text": [
      "================ Capacidade de Aprendizado ================ \n",
      "MAE: 4826.49.\n",
      "MAPE: 11.53\n",
      "RMSE: 6810.33\n",
      "\n",
      "================ Capacidade de Generalização ================\n",
      "MAE: 4823.38.\n",
      "MAPE: 11.49\n",
      "RMSE: 6809.12\n"
     ]
    }
   ],
   "source": [
    "# Instanciando e criando pipeline para o modelo de svr\n",
    "pipe_lsvr = pipeline.Pipeline(steps=[('Pré - Processamento', pre_processamento),\n",
    "                                      ('SVR', svm.LinearSVR(max_iter=100))])\n",
    "\n",
    "# Treinamento do modelo\n",
    "pipe_lsvr.fit(X_treino, np.ravel(y_treino))\n",
    "\n",
    "# Predição do Modelo - Aprendizado\n",
    "y_lsvr_aprendizado = pipe_lsvr.predict(X_treino)\n",
    "\n",
    "# Métricas de Validação - capacidade de Aprendizado\n",
    "print('================ Capacidade de Aprendizado ================ ')\n",
    "mae_aprendizado_lsvr, mape_aprendizado_lsvr, rmse_aprendizado_lsvr = metricas_validacao(y_treino, y_lsvr_aprendizado) \n",
    "\n",
    "# Predição do Modelo - Generalização\n",
    "y_lsvr_generalizacao = pipe_lsvr.predict(X_validacao)\n",
    "\n",
    "print('\\n================ Capacidade de Generalização ================')\n",
    "mae_generalizacao_lsvr, mape_generalizacao_lsvr, rmse_generalizacao_lsvr = metricas_validacao(y_validacao, y_lsvr_generalizacao) "
   ]
  },
  {
   "cell_type": "markdown",
   "metadata": {},
   "source": [
    "### 6.7 ExtraTreesRegressor"
   ]
  },
  {
   "cell_type": "code",
   "execution_count": 57,
   "metadata": {},
   "outputs": [
    {
     "name": "stdout",
     "output_type": "stream",
     "text": [
      "================ Capacidade de Aprendizado ================ \n",
      "MAE: 5729.43.\n",
      "MAPE: 14.63\n",
      "RMSE: 7580.34\n",
      "\n",
      "================ Capacidade de Generalização ================\n",
      "MAE: 5718.37.\n",
      "MAPE: 14.58\n",
      "RMSE: 7575.57\n"
     ]
    }
   ],
   "source": [
    "# Instanciando e criando pipeline para o modelo de svr\n",
    "pipe_extrees = pipeline.Pipeline(steps=[('Pré - Processamento', pre_processamento),\n",
    "                                      ('SVR', ensemble.ExtraTreesRegressor(max_depth=5))])\n",
    "\n",
    "# Treinamento do modelo\n",
    "pipe_extrees.fit(X_treino, np.ravel(y_treino))\n",
    "\n",
    "# Predição do Modelo - Aprendizado\n",
    "y_extrees_aprendizado = pipe_extrees.predict(X_treino)\n",
    "\n",
    "# Métricas de Validação - capacidade de Aprendizado\n",
    "print('================ Capacidade de Aprendizado ================ ')\n",
    "mae_aprendizado_extrees, mape_aprendizado_extrees, rmse_aprendizado_extrees = metricas_validacao(y_treino, y_extrees_aprendizado) \n",
    "\n",
    "# Predição do Modelo - Generalização\n",
    "y_extrees_generalizacao = pipe_extrees.predict(X_validacao)\n",
    "\n",
    "print('\\n================ Capacidade de Generalização ================')\n",
    "mae_generalizacao_extrees, mape_generalizacao_extrees, rmse_generalizacao_extrees = metricas_validacao(y_validacao, y_extrees_generalizacao) "
   ]
  },
  {
   "cell_type": "markdown",
   "metadata": {},
   "source": [
    "### 6.8 Gradient Boosting Regressor"
   ]
  },
  {
   "cell_type": "code",
   "execution_count": 58,
   "metadata": {},
   "outputs": [
    {
     "name": "stdout",
     "output_type": "stream",
     "text": [
      "================ Capacidade de Aprendizado ================ \n",
      "MAE: 4189.90.\n",
      "MAPE: 10.22\n",
      "RMSE: 5752.55\n",
      "\n",
      "================ Capacidade de Generalização ================\n",
      "MAE: 4195.78.\n",
      "MAPE: 10.21\n",
      "RMSE: 5765.75\n"
     ]
    }
   ],
   "source": [
    "# Instanciando e criando pipeline para o modelo de svr\n",
    "pipe_gbr = pipeline.Pipeline(steps=[('Pré - Processamento', pre_processamento),\n",
    "                                      ('GBR', ensemble.GradientBoostingRegressor(max_depth=5))])\n",
    "\n",
    "# Treinamento do modelo\n",
    "pipe_gbr.fit(X_treino, np.ravel(y_treino))\n",
    "\n",
    "# Predição do Modelo - Aprendizado\n",
    "y_gbr_aprendizado = pipe_gbr.predict(X_treino)\n",
    "\n",
    "# Métricas de Validação - capacidade de Aprendizado\n",
    "print('================ Capacidade de Aprendizado ================ ')\n",
    "mae_aprendizado_gbr, mape_aprendizado_gbr, rmse_aprendizado_gbr = metricas_validacao(y_treino, y_gbr_aprendizado) \n",
    "\n",
    "# Predição do Modelo - Generalização\n",
    "y_gbr_generalizacao = pipe_gbr.predict(X_validacao)\n",
    "\n",
    "print('\\n================ Capacidade de Generalização ================')\n",
    "mae_generalizacao_gbr, mape_generalizacao_gbr, rmse_generalizacao_gbr = metricas_validacao(y_validacao, y_gbr_generalizacao) "
   ]
  },
  {
   "cell_type": "markdown",
   "metadata": {},
   "source": [
    "### 6.9 Random Forest Regressor"
   ]
  },
  {
   "cell_type": "code",
   "execution_count": null,
   "metadata": {},
   "outputs": [
    {
     "name": "stdout",
     "output_type": "stream",
     "text": [
      "================ Capacidade de Aprendizado ================ \n",
      "MAE: 5588.54.\n",
      "MAPE: 13.95\n",
      "RMSE: 7525.72\n",
      "\n",
      "================ Capacidade de Generalização ================\n",
      "MAE: 5565.76.\n",
      "MAPE: 13.88\n",
      "RMSE: 7502.23\n"
     ]
    }
   ],
   "source": [
    "# Instanciando e criando pipeline para o modelo de svr\n",
    "pipe_rfr = pipeline.Pipeline(steps=[('Pré - Processamento', pre_processamento),\n",
    "                                      ('GBR', ensemble.RandomForestRegressor(max_depth=5))])\n",
    "\n",
    "# Treinamento do modelo\n",
    "pipe_rfr.fit(X_treino, np.ravel(y_treino))\n",
    "\n",
    "# Predição do Modelo - Aprendizado\n",
    "y_rfr_aprendizado = pipe_rfr.predict(X_treino)\n",
    "\n",
    "# Métricas de Validação - capacidade de Aprendizado\n",
    "print('================ Capacidade de Aprendizado ================ ')\n",
    "mae_aprendizado_rfr, mape_aprendizado_rfr, rmse_aprendizado_rfr = metricas_validacao(y_treino, y_rfr_aprendizado) \n",
    "\n",
    "# Predição do Modelo - Generalização\n",
    "y_rfr_generalizacao = pipe_rfr.predict(X_validacao)\n",
    "\n",
    "print('\\n================ Capacidade de Generalização ================')\n",
    "mae_generalizacao_rfr, mape_generalizacao_rfr, rmse_generalizacao_rfr = metricas_validacao(y_validacao, y_rfr_generalizacao) "
   ]
  },
  {
   "cell_type": "markdown",
   "metadata": {},
   "source": [
    "### 6.10 Xgboost Regressor"
   ]
  },
  {
   "cell_type": "code",
   "execution_count": 60,
   "metadata": {},
   "outputs": [
    {
     "name": "stdout",
     "output_type": "stream",
     "text": [
      "================ Capacidade de Aprendizado ================ \n",
      "MAE: 3950.36.\n",
      "MAPE: 9.64\n",
      "RMSE: 5404.64\n",
      "\n",
      "================ Capacidade de Generalização ================\n",
      "MAE: 4010.87.\n",
      "MAPE: 9.74\n",
      "RMSE: 5512.50\n"
     ]
    }
   ],
   "source": [
    "# Instanciando e criando pipeline para o modelo de xgbr\n",
    "pipe_xgbr = pipeline.Pipeline(steps=[('Pré - Processamento', pre_processamento),\n",
    "                                      ('GBR', xgb.XGBRegressor())])\n",
    "\n",
    "# Treinamento do modelo\n",
    "pipe_xgbr.fit(X_treino, np.ravel(y_treino))\n",
    "\n",
    "# Predição do Modelo - Aprendizado\n",
    "y_xgbr_aprendizado = pipe_xgbr.predict(X_treino)\n",
    "\n",
    "# Métricas de Validação - capacidade de Aprendizado\n",
    "print('================ Capacidade de Aprendizado ================ ')\n",
    "mae_aprendizado_xgbr, mape_aprendizado_xgbr, rmse_aprendizado_xgbr = metricas_validacao(y_treino, y_xgbr_aprendizado) \n",
    "\n",
    "# Predição do Modelo - Generalização\n",
    "y_xgbr_generalizacao = pipe_xgbr.predict(X_validacao)\n",
    "\n",
    "print('\\n================ Capacidade de Generalização ================')\n",
    "mae_generalizacao_xgbr, mape_generalizacao_xgbr, rmse_generalizacao_xgbr = metricas_validacao(y_validacao, y_xgbr_generalizacao) "
   ]
  },
  {
   "cell_type": "markdown",
   "metadata": {},
   "source": [
    "### 6.12 Resumo dos Modelos"
   ]
  },
  {
   "cell_type": "code",
   "execution_count": null,
   "metadata": {},
   "outputs": [],
   "source": [
    "# Dados de Aprendizado\n",
    "mae_aprendizado  = [mae_aprendizado_regressao, mae_aprendizado_ridge, mae_aprendizado_lasso, \n",
    "                    mae_aprendizado_tree, mae_aprendizado_extree, mae_aprendizado_lsvr, \n",
    "                    mae_aprendizado_extrees, mae_aprendizado_gbr, mae_aprendizado_rfr, mae_aprendizado_xgbr]\n",
    "mape_aprendizado = [mape_aprendizado_regressao, mape_aprendizado_ridge, mape_aprendizado_lasso, \n",
    "                    mape_aprendizado_tree, mape_aprendizado_extree, mape_aprendizado_lsvr, \n",
    "                    mape_aprendizado_extrees, mape_aprendizado_gbr, mape_aprendizado_rfr, mape_aprendizado_xgbr]\n",
    "rmse_aprendizado = [rmse_aprendizado_regressao, rmse_aprendizado_ridge, rmse_aprendizado_lasso, \n",
    "                    mae_aprendizado_tree, rmse_aprendizado_extree, rmse_aprendizado_lsvr, \n",
    "                    rmse_aprendizado_extrees, rmse_aprendizado_gbr, rmse_aprendizado_rfr, rmse_aprendizado_xgbr]\n",
    "\n",
    "\n",
    "# Dados de generalização\n",
    "mae_generalizacao  = [mae_generalizacao_regressao, mae_generalizacao_ridge, mae_generalizacao_lasso, \n",
    "                    rmse_generalizacao_tree, mae_generalizacao_extree, mae_generalizacao_lsvr, \n",
    "                    mae_generalizacao_extrees, mae_generalizacao_gbr, mae_generalizacao_rfr, mae_generalizacao_xgbr]\n",
    "mape_generalizacao = [mape_generalizacao_regressao, mape_generalizacao_ridge, mape_generalizacao_lasso, \n",
    "                    mape_generalizacao_tree, mape_generalizacao_extree, mape_generalizacao_lsvr, \n",
    "                    mape_generalizacao_extrees, mape_generalizacao_gbr, mape_generalizacao_rfr, mape_generalizacao_xgbr]\n",
    "rmse_generalizacao = [rmse_generalizacao_regressao, rmse_generalizacao_ridge, rmse_generalizacao_lasso, \n",
    "                    mae_generalizacao_tree, rmse_generalizacao_extree, rmse_generalizacao_lsvr, \n",
    "                    rmse_generalizacao_extrees, rmse_generalizacao_gbr, rmse_generalizacao_rfr, rmse_generalizacao_xgbr]"
   ]
  },
  {
   "cell_type": "code",
   "execution_count": 70,
   "metadata": {},
   "outputs": [
    {
     "name": "stdout",
     "output_type": "stream",
     "text": [
      "===================== Capacidade de Aprendizado ======================\n"
     ]
    },
    {
     "data": {
      "text/html": [
       "<div>\n",
       "<style scoped>\n",
       "    .dataframe tbody tr th:only-of-type {\n",
       "        vertical-align: middle;\n",
       "    }\n",
       "\n",
       "    .dataframe tbody tr th {\n",
       "        vertical-align: top;\n",
       "    }\n",
       "\n",
       "    .dataframe thead th {\n",
       "        text-align: right;\n",
       "    }\n",
       "</style>\n",
       "<table border=\"1\" class=\"dataframe\">\n",
       "  <thead>\n",
       "    <tr style=\"text-align: right;\">\n",
       "      <th></th>\n",
       "      <th>Regressão Linear</th>\n",
       "      <th>Ridge</th>\n",
       "      <th>Lasso</th>\n",
       "      <th>Tree</th>\n",
       "      <th>ExtraTree</th>\n",
       "      <th>LinearSRV</th>\n",
       "      <th>ExtraTrees</th>\n",
       "      <th>Gradient Boosting</th>\n",
       "      <th>Random Forest</th>\n",
       "      <th>XGBoost</th>\n",
       "    </tr>\n",
       "  </thead>\n",
       "  <tbody>\n",
       "    <tr>\n",
       "      <th>MAE</th>\n",
       "      <td>4856.85</td>\n",
       "      <td>4856.85</td>\n",
       "      <td>4856.67</td>\n",
       "      <td>7668.71</td>\n",
       "      <td>6672.15</td>\n",
       "      <td>4826.49</td>\n",
       "      <td>5729.43</td>\n",
       "      <td>4189.90</td>\n",
       "      <td>4189.90</td>\n",
       "      <td>3950.36</td>\n",
       "    </tr>\n",
       "    <tr>\n",
       "      <th>MAPE</th>\n",
       "      <td>11.95</td>\n",
       "      <td>11.95</td>\n",
       "      <td>11.95</td>\n",
       "      <td>14.22</td>\n",
       "      <td>16.66</td>\n",
       "      <td>11.53</td>\n",
       "      <td>14.63</td>\n",
       "      <td>10.22</td>\n",
       "      <td>10.22</td>\n",
       "      <td>9.64</td>\n",
       "    </tr>\n",
       "    <tr>\n",
       "      <th>RMSE</th>\n",
       "      <td>6680.77</td>\n",
       "      <td>6680.77</td>\n",
       "      <td>6680.78</td>\n",
       "      <td>5704.15</td>\n",
       "      <td>8779.45</td>\n",
       "      <td>6810.33</td>\n",
       "      <td>7580.34</td>\n",
       "      <td>5752.55</td>\n",
       "      <td>5752.55</td>\n",
       "      <td>5404.64</td>\n",
       "    </tr>\n",
       "  </tbody>\n",
       "</table>\n",
       "</div>"
      ],
      "text/plain": [
       "      Regressão Linear   Ridge   Lasso    Tree  ExtraTree  LinearSRV  \\\n",
       "MAE            4856.85 4856.85 4856.67 7668.71    6672.15    4826.49   \n",
       "MAPE             11.95   11.95   11.95   14.22      16.66      11.53   \n",
       "RMSE           6680.77 6680.77 6680.78 5704.15    8779.45    6810.33   \n",
       "\n",
       "      ExtraTrees  Gradient Boosting  Random Forest  XGBoost  \n",
       "MAE      5729.43            4189.90        4189.90  3950.36  \n",
       "MAPE       14.63              10.22          10.22     9.64  \n",
       "RMSE     7580.34            5752.55        5752.55  5404.64  "
      ]
     },
     "execution_count": 70,
     "metadata": {},
     "output_type": "execute_result"
    }
   ],
   "source": [
    "print('===================== Capacidade de Aprendizado ======================')\n",
    "pd.DataFrame(data=[mae_aprendizado, mape_aprendizado, rmse_aprendizado], \n",
    "             columns=['Regressão Linear', 'Ridge', 'Lasso', 'Tree', 'ExtraTree', 'LinearSRV', 'ExtraTrees', 'Gradient Boosting', 'Random Forest', 'XGBoost'],\n",
    "             index=['MAE', 'MAPE', 'RMSE'])\n"
   ]
  },
  {
   "cell_type": "code",
   "execution_count": 71,
   "metadata": {},
   "outputs": [
    {
     "name": "stdout",
     "output_type": "stream",
     "text": [
      "===================== Capacidade de Generalização ======================\n"
     ]
    },
    {
     "data": {
      "text/html": [
       "<div>\n",
       "<style scoped>\n",
       "    .dataframe tbody tr th:only-of-type {\n",
       "        vertical-align: middle;\n",
       "    }\n",
       "\n",
       "    .dataframe tbody tr th {\n",
       "        vertical-align: top;\n",
       "    }\n",
       "\n",
       "    .dataframe thead th {\n",
       "        text-align: right;\n",
       "    }\n",
       "</style>\n",
       "<table border=\"1\" class=\"dataframe\">\n",
       "  <thead>\n",
       "    <tr style=\"text-align: right;\">\n",
       "      <th></th>\n",
       "      <th>Regressão Linear</th>\n",
       "      <th>Ridge</th>\n",
       "      <th>Lasso</th>\n",
       "      <th>Tree</th>\n",
       "      <th>ExtraTree</th>\n",
       "      <th>LinearSRV</th>\n",
       "      <th>ExtraTrees</th>\n",
       "      <th>Gradient Boosting</th>\n",
       "      <th>Random Forest</th>\n",
       "      <th>XGBoost</th>\n",
       "    </tr>\n",
       "  </thead>\n",
       "  <tbody>\n",
       "    <tr>\n",
       "      <th>MAE</th>\n",
       "      <td>4850.70</td>\n",
       "      <td>4850.70</td>\n",
       "      <td>4850.47</td>\n",
       "      <td>7646.39</td>\n",
       "      <td>6647.34</td>\n",
       "      <td>4823.38</td>\n",
       "      <td>5718.37</td>\n",
       "      <td>4195.78</td>\n",
       "      <td>4195.78</td>\n",
       "      <td>4010.87</td>\n",
       "    </tr>\n",
       "    <tr>\n",
       "      <th>MAPE</th>\n",
       "      <td>11.91</td>\n",
       "      <td>11.91</td>\n",
       "      <td>11.91</td>\n",
       "      <td>14.14</td>\n",
       "      <td>16.58</td>\n",
       "      <td>11.49</td>\n",
       "      <td>14.58</td>\n",
       "      <td>10.21</td>\n",
       "      <td>10.21</td>\n",
       "      <td>9.74</td>\n",
       "    </tr>\n",
       "    <tr>\n",
       "      <th>RMSE</th>\n",
       "      <td>6668.74</td>\n",
       "      <td>6668.74</td>\n",
       "      <td>6668.69</td>\n",
       "      <td>5681.17</td>\n",
       "      <td>8753.29</td>\n",
       "      <td>6809.12</td>\n",
       "      <td>7575.57</td>\n",
       "      <td>5765.75</td>\n",
       "      <td>5765.75</td>\n",
       "      <td>5512.50</td>\n",
       "    </tr>\n",
       "  </tbody>\n",
       "</table>\n",
       "</div>"
      ],
      "text/plain": [
       "      Regressão Linear   Ridge   Lasso    Tree  ExtraTree  LinearSRV  \\\n",
       "MAE            4850.70 4850.70 4850.47 7646.39    6647.34    4823.38   \n",
       "MAPE             11.91   11.91   11.91   14.14      16.58      11.49   \n",
       "RMSE           6668.74 6668.74 6668.69 5681.17    8753.29    6809.12   \n",
       "\n",
       "      ExtraTrees  Gradient Boosting  Random Forest  XGBoost  \n",
       "MAE      5718.37            4195.78        4195.78  4010.87  \n",
       "MAPE       14.58              10.21          10.21     9.74  \n",
       "RMSE     7575.57            5765.75        5765.75  5512.50  "
      ]
     },
     "execution_count": 71,
     "metadata": {},
     "output_type": "execute_result"
    }
   ],
   "source": [
    "print('===================== Capacidade de Generalização ======================')\n",
    "pd.DataFrame(data=[mae_generalizacao, mape_generalizacao, rmse_generalizacao], \n",
    "             columns=['Regressão Linear', 'Ridge', 'Lasso', 'Tree', 'ExtraTree', 'LinearSRV', 'ExtraTrees', 'Gradient Boosting', 'Random Forest', 'XGBoost'],\n",
    "             index=['MAE', 'MAPE', 'RMSE'])\n"
   ]
  },
  {
   "cell_type": "markdown",
   "metadata": {},
   "source": [
    "Analisando as capacidades de generalização e aprendizado, podemos observar que o XGBoost foi o modelo campeão. Sendo assim, vamos agora de hiperparametrização."
   ]
  },
  {
   "cell_type": "markdown",
   "metadata": {},
   "source": [
    "## 7.0 Validação Cruzada"
   ]
  },
  {
   "cell_type": "markdown",
   "metadata": {},
   "source": [
    "Tendo em mente que o nosso modelo escolhido será o XGBoost, vamos primeiramente, conferir de fato se o nosso modelo é performático ao realizar o teste em divisões diferentes do nosso dataset."
   ]
  },
  {
   "cell_type": "code",
   "execution_count": 86,
   "metadata": {},
   "outputs": [
    {
     "name": "stdout",
     "output_type": "stream",
     "text": [
      "Desvio Padrão MAPE: 0.01\n",
      "Média MAPE: 9.81\n",
      "==========================================================\n",
      "Desvio Padrão MAE: 6.87\n",
      "Média MAE: 4032.94\n",
      "==========================================================\n",
      "Desvio Padrão RMSE: 14.95\n",
      "Média RMSE: 5550.11\n"
     ]
    }
   ],
   "source": [
    "# validação cruzada com mape\n",
    "mape_cross = model_selection.cross_val_score(estimator=pipe_xgbr, X=X_treino, y=y_treino, cv=5, scoring='neg_mean_absolute_percentage_error')\n",
    "mae_cross = model_selection.cross_val_score(estimator=pipe_xgbr, X=X_treino, y=y_treino, cv=5, scoring='neg_mean_absolute_error')\n",
    "rmse_cross = model_selection.cross_val_score(estimator=pipe_xgbr, X=X_treino, y=y_treino, cv=5, scoring='neg_root_mean_squared_error')\n",
    "\n",
    "# Métricas de Validação\n",
    "print(f'Desvio Padrão MAPE: {np.round(np.std(mape_cross*(-100)), 2)}')\n",
    "print(f'Média MAPE: {np.round(np.mean(mape_cross*(-100)), 2)}')\n",
    "print('==========================================================')\n",
    "print(f'Desvio Padrão MAE: {np.round(np.std(mae_cross*(-1)), 2)}')\n",
    "print(f'Média MAE: {np.round(np.mean(mae_cross*(-1)), 2)}')\n",
    "print('==========================================================')\n",
    "print(f'Desvio Padrão RMSE: {np.round(np.std(rmse_cross*(-1)), 2)}')\n",
    "print(f'Média RMSE: {np.round(np.mean(rmse_cross*(-1)), 2)}')"
   ]
  },
  {
   "cell_type": "markdown",
   "metadata": {},
   "source": [
    "Analisando o cross-validation, podemos ver que o modelo é bem estável. Logo, vamos ajustá-lo hiperparametrizá-lo de modo que possamos refiná-lo."
   ]
  },
  {
   "cell_type": "markdown",
   "metadata": {},
   "source": [
    "## 8.0 Hiperparametrização"
   ]
  },
  {
   "cell_type": "markdown",
   "metadata": {},
   "source": []
  }
 ],
 "metadata": {
  "kernelspec": {
   "display_name": ".venv",
   "language": "python",
   "name": "python3"
  },
  "language_info": {
   "codemirror_mode": {
    "name": "ipython",
    "version": 3
   },
   "file_extension": ".py",
   "mimetype": "text/x-python",
   "name": "python",
   "nbconvert_exporter": "python",
   "pygments_lexer": "ipython3",
   "version": "3.11.5"
  }
 },
 "nbformat": 4,
 "nbformat_minor": 2
}
